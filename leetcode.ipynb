{
  "nbformat": 4,
  "nbformat_minor": 0,
  "metadata": {
    "colab": {
      "provenance": [],
      "authorship_tag": "ABX9TyNlp/E466YFjGYJFBW5SYvS",
      "include_colab_link": true
    },
    "kernelspec": {
      "name": "python3",
      "display_name": "Python 3"
    },
    "language_info": {
      "name": "python"
    }
  },
  "cells": [
    {
      "cell_type": "markdown",
      "metadata": {
        "id": "view-in-github",
        "colab_type": "text"
      },
      "source": [
        "<a href=\"https://colab.research.google.com/github/JangJoonHa/Leetcode_2/blob/main/leetcode.ipynb\" target=\"_parent\"><img src=\"https://colab.research.google.com/assets/colab-badge.svg\" alt=\"Open In Colab\"/></a>"
      ]
    },
    {
      "cell_type": "markdown",
      "source": [
        "905. Sort Array By Parity"
      ],
      "metadata": {
        "id": "u7fCcUAIjl0p"
      }
    },
    {
      "cell_type": "code",
      "execution_count": null,
      "metadata": {
        "colab": {
          "base_uri": "https://localhost:8080/"
        },
        "id": "IoVj9JtRjTYr",
        "outputId": "a79e5c26-5883-4631-9c14-d8fec8a67839"
      },
      "outputs": [
        {
          "output_type": "stream",
          "name": "stdout",
          "text": [
            "[2, 4, 3, 1]\n"
          ]
        }
      ],
      "source": [
        "from typing import List\n",
        "\n",
        "class Solution:\n",
        "    def sortArrayByParity(self, nums: List[int]) -> List[int]:\n",
        "        # 짝수와 홀수를 분리\n",
        "        even = [num for num in nums if num % 2 == 0]\n",
        "        odd = [num for num in nums if num % 2 != 0]\n",
        "\n",
        "        # 짝수를 앞에 두고 홀수를 뒤에 둔 새로운 리스트 반환\n",
        "        return even + odd\n",
        "\n",
        "# 예제 사용\n",
        "solution = Solution()\n",
        "nums = [3, 1, 2, 4]\n",
        "result = solution.sortArrayByParity(nums)\n",
        "print(result)  # 출력: [2, 4, 3, 1]\n"
      ]
    },
    {
      "cell_type": "markdown",
      "source": [
        "908. Smallest Range I"
      ],
      "metadata": {
        "id": "Euxylbqnk6DN"
      }
    },
    {
      "cell_type": "code",
      "source": [
        "from typing import List\n",
        "\n",
        "class Solution:\n",
        "    def smallestRangeI(self, nums: List[int], k: int) -> int:\n",
        "        max_num = max(nums)\n",
        "        min_num = min(nums)\n",
        "\n",
        "        # 최댓값과 최솟값의 차이를 k로 줄일 수 있는지 계산\n",
        "        range_diff = max_num - min_num\n",
        "        return max(0, range_diff - 2 * k)\n"
      ],
      "metadata": {
        "id": "tuRYiZWYk_B1"
      },
      "execution_count": null,
      "outputs": []
    },
    {
      "cell_type": "markdown",
      "source": [
        "914. X of a Kind in a Deck of Cards"
      ],
      "metadata": {
        "id": "sApvj6OVlCzk"
      }
    },
    {
      "cell_type": "code",
      "source": [
        "from typing import List\n",
        "from collections import Counter\n",
        "from math import gcd\n",
        "from functools import reduce\n",
        "\n",
        "class Solution:\n",
        "    def hasGroupsSizeX(self, deck: List[int]) -> bool:\n",
        "        # 카드의 개수를 세기\n",
        "        count = Counter(deck)\n",
        "\n",
        "        # 카드 수의 최대 공약수 계산\n",
        "        x = reduce(gcd, count.values())\n",
        "\n",
        "        return x >= 2"
      ],
      "metadata": {
        "id": "lUGGcrAxlJ5e"
      },
      "execution_count": null,
      "outputs": []
    },
    {
      "cell_type": "markdown",
      "source": [
        "917. Reverse Only Letters"
      ],
      "metadata": {
        "id": "5OwgqLtrlMhw"
      }
    },
    {
      "cell_type": "code",
      "source": [
        "class Solution:\n",
        "    def reverseOnlyLetters(self, s: str) -> str:\n",
        "        # 알파벳 문자만 추출하여 뒤집기\n",
        "        letters = [c for c in s if c.isalpha()]\n",
        "        reversed_letters = letters[::-1]\n",
        "\n",
        "        result = []\n",
        "        letter_index = 0\n",
        "\n",
        "        for c in s:\n",
        "            if c.isalpha():\n",
        "                result.append(reversed_letters[letter_index])\n",
        "                letter_index += 1\n",
        "            else:\n",
        "                result.append(c)\n",
        "\n",
        "        return ''.join(result)"
      ],
      "metadata": {
        "id": "FpUNbtMVlQLT"
      },
      "execution_count": null,
      "outputs": []
    },
    {
      "cell_type": "markdown",
      "source": [
        "922. Sort Array By Parity II"
      ],
      "metadata": {
        "id": "cH5pxUEIlSxs"
      }
    },
    {
      "cell_type": "code",
      "source": [
        "from typing import List\n",
        "\n",
        "class Solution:\n",
        "    def sortArrayByParityII(self, nums: List[int]) -> List[int]:\n",
        "        result = [0] * len(nums)\n",
        "        even_index, odd_index = 0, 1\n",
        "\n",
        "        for num in nums:\n",
        "            if num % 2 == 0:\n",
        "                result[even_index] = num\n",
        "                even_index += 2\n",
        "            else:\n",
        "                result[odd_index] = num\n",
        "                odd_index += 2\n",
        "\n",
        "        return result"
      ],
      "metadata": {
        "id": "NTDmomRslXU8"
      },
      "execution_count": null,
      "outputs": []
    },
    {
      "cell_type": "markdown",
      "source": [
        "925. Long Pressed Name"
      ],
      "metadata": {
        "id": "W1U3ZV2BlZnM"
      }
    },
    {
      "cell_type": "code",
      "source": [
        "class Solution:\n",
        "    def isLongPressedName(self, name: str, typed: str) -> bool:\n",
        "        i, j = 0, 0\n",
        "\n",
        "        while j < len(typed):\n",
        "            if i < len(name) and name[i] == typed[j]:\n",
        "                i += 1\n",
        "            elif j == 0 or typed[j] != typed[j - 1]:\n",
        "                return False\n",
        "            j += 1\n",
        "\n",
        "        return i == len(name)"
      ],
      "metadata": {
        "id": "I0cTucIXldIV"
      },
      "execution_count": null,
      "outputs": []
    },
    {
      "cell_type": "markdown",
      "source": [
        "929. Unique Email Addresses"
      ],
      "metadata": {
        "id": "p1syfRJtlfgT"
      }
    },
    {
      "cell_type": "code",
      "source": [
        "from typing import List\n",
        "\n",
        "class Solution:\n",
        "    def numUniqueEmails(self, emails: List[str]) -> int:\n",
        "        unique_emails = set()\n",
        "\n",
        "        for email in emails:\n",
        "            local, domain = email.split('@')\n",
        "            # '.' 제거\n",
        "            local = local.replace('.', '')\n",
        "            # '+' 이후의 문자 제거\n",
        "            local = local.split('+')[0]\n",
        "            # 최종 이메일 주소 생성\n",
        "            unique_emails.add(local + '@' + domain)\n",
        "\n",
        "        return len(unique_emails)"
      ],
      "metadata": {
        "id": "_sbgA5oRljxe"
      },
      "execution_count": null,
      "outputs": []
    },
    {
      "cell_type": "markdown",
      "source": [
        "933. Number of Recent Calls"
      ],
      "metadata": {
        "id": "IQea4IqulmNM"
      }
    },
    {
      "cell_type": "code",
      "source": [
        "class RecentCounter:\n",
        "\n",
        "    def __init__(self):\n",
        "        self.pings = []\n",
        "\n",
        "    def ping(self, t: int) -> int:\n",
        "        # 현재 ping 추가\n",
        "        self.pings.append(t)\n",
        "        # 3000ms 이내의 ping만 남기기\n",
        "        while self.pings and self.pings[0] < t - 3000:\n",
        "            self.pings.pop(0)\n",
        "        return len(self.pings)"
      ],
      "metadata": {
        "id": "GZRs4fT3lrJQ"
      },
      "execution_count": null,
      "outputs": []
    },
    {
      "cell_type": "markdown",
      "source": [
        "938. Range Sum of BST"
      ],
      "metadata": {
        "id": "Jcdp2CxolvDm"
      }
    },
    {
      "cell_type": "code",
      "source": [
        "# Definition for a binary tree node.\n",
        "class TreeNode:\n",
        "    def __init__(self, val=0, left=None, right=None):\n",
        "        self.val = val\n",
        "        self.left = left\n",
        "        self.right = right\n",
        "\n",
        "class Solution:\n",
        "    def rangeSumBST(self, root: Optional[TreeNode], low: int, high: int) -> int:\n",
        "        if not root:\n",
        "            return 0\n",
        "\n",
        "        # 현재 노드의 값이 범위 안에 있는 경우\n",
        "        if low <= root.val <= high:\n",
        "            return (root.val + self.rangeSumBST(root.left, low, high) +\n",
        "                    self.rangeSumBST(root.right, low, high))\n",
        "\n",
        "        # 현재 노드의 값이 범위보다 작은 경우, 오른쪽 서브트리만 탐색\n",
        "        elif root.val < low:\n",
        "            return self.rangeSumBST(root.right, low, high)\n",
        "\n",
        "        # 현재 노드의 값이 범위보다 큰 경우, 왼쪽 서브트리만 탐색\n",
        "        else:\n",
        "            return self.rangeSumBST(root.left, low, high)"
      ],
      "metadata": {
        "colab": {
          "base_uri": "https://localhost:8080/",
          "height": 342
        },
        "id": "ihmwNuG7lzbd",
        "outputId": "6498ada4-4fa1-4dde-d3f5-5742d57b3e27"
      },
      "execution_count": null,
      "outputs": [
        {
          "output_type": "error",
          "ename": "NameError",
          "evalue": "name 'Optional' is not defined",
          "traceback": [
            "\u001b[0;31m---------------------------------------------------------------------------\u001b[0m",
            "\u001b[0;31mNameError\u001b[0m                                 Traceback (most recent call last)",
            "\u001b[0;32m<ipython-input-11-0e50cd422b7b>\u001b[0m in \u001b[0;36m<cell line: 8>\u001b[0;34m()\u001b[0m\n\u001b[1;32m      6\u001b[0m         \u001b[0mself\u001b[0m\u001b[0;34m.\u001b[0m\u001b[0mright\u001b[0m \u001b[0;34m=\u001b[0m \u001b[0mright\u001b[0m\u001b[0;34m\u001b[0m\u001b[0;34m\u001b[0m\u001b[0m\n\u001b[1;32m      7\u001b[0m \u001b[0;34m\u001b[0m\u001b[0m\n\u001b[0;32m----> 8\u001b[0;31m \u001b[0;32mclass\u001b[0m \u001b[0mSolution\u001b[0m\u001b[0;34m:\u001b[0m\u001b[0;34m\u001b[0m\u001b[0;34m\u001b[0m\u001b[0m\n\u001b[0m\u001b[1;32m      9\u001b[0m     \u001b[0;32mdef\u001b[0m \u001b[0mrangeSumBST\u001b[0m\u001b[0;34m(\u001b[0m\u001b[0mself\u001b[0m\u001b[0;34m,\u001b[0m \u001b[0mroot\u001b[0m\u001b[0;34m:\u001b[0m \u001b[0mOptional\u001b[0m\u001b[0;34m[\u001b[0m\u001b[0mTreeNode\u001b[0m\u001b[0;34m]\u001b[0m\u001b[0;34m,\u001b[0m \u001b[0mlow\u001b[0m\u001b[0;34m:\u001b[0m \u001b[0mint\u001b[0m\u001b[0;34m,\u001b[0m \u001b[0mhigh\u001b[0m\u001b[0;34m:\u001b[0m \u001b[0mint\u001b[0m\u001b[0;34m)\u001b[0m \u001b[0;34m->\u001b[0m \u001b[0mint\u001b[0m\u001b[0;34m:\u001b[0m\u001b[0;34m\u001b[0m\u001b[0;34m\u001b[0m\u001b[0m\n\u001b[1;32m     10\u001b[0m         \u001b[0;32mif\u001b[0m \u001b[0;32mnot\u001b[0m \u001b[0mroot\u001b[0m\u001b[0;34m:\u001b[0m\u001b[0;34m\u001b[0m\u001b[0;34m\u001b[0m\u001b[0m\n",
            "\u001b[0;32m<ipython-input-11-0e50cd422b7b>\u001b[0m in \u001b[0;36mSolution\u001b[0;34m()\u001b[0m\n\u001b[1;32m      7\u001b[0m \u001b[0;34m\u001b[0m\u001b[0m\n\u001b[1;32m      8\u001b[0m \u001b[0;32mclass\u001b[0m \u001b[0mSolution\u001b[0m\u001b[0;34m:\u001b[0m\u001b[0;34m\u001b[0m\u001b[0;34m\u001b[0m\u001b[0m\n\u001b[0;32m----> 9\u001b[0;31m     \u001b[0;32mdef\u001b[0m \u001b[0mrangeSumBST\u001b[0m\u001b[0;34m(\u001b[0m\u001b[0mself\u001b[0m\u001b[0;34m,\u001b[0m \u001b[0mroot\u001b[0m\u001b[0;34m:\u001b[0m \u001b[0mOptional\u001b[0m\u001b[0;34m[\u001b[0m\u001b[0mTreeNode\u001b[0m\u001b[0;34m]\u001b[0m\u001b[0;34m,\u001b[0m \u001b[0mlow\u001b[0m\u001b[0;34m:\u001b[0m \u001b[0mint\u001b[0m\u001b[0;34m,\u001b[0m \u001b[0mhigh\u001b[0m\u001b[0;34m:\u001b[0m \u001b[0mint\u001b[0m\u001b[0;34m)\u001b[0m \u001b[0;34m->\u001b[0m \u001b[0mint\u001b[0m\u001b[0;34m:\u001b[0m\u001b[0;34m\u001b[0m\u001b[0;34m\u001b[0m\u001b[0m\n\u001b[0m\u001b[1;32m     10\u001b[0m         \u001b[0;32mif\u001b[0m \u001b[0;32mnot\u001b[0m \u001b[0mroot\u001b[0m\u001b[0;34m:\u001b[0m\u001b[0;34m\u001b[0m\u001b[0;34m\u001b[0m\u001b[0m\n\u001b[1;32m     11\u001b[0m             \u001b[0;32mreturn\u001b[0m \u001b[0;36m0\u001b[0m\u001b[0;34m\u001b[0m\u001b[0;34m\u001b[0m\u001b[0m\n",
            "\u001b[0;31mNameError\u001b[0m: name 'Optional' is not defined"
          ]
        }
      ]
    },
    {
      "cell_type": "markdown",
      "source": [
        "941. Valid Mountain Array"
      ],
      "metadata": {
        "id": "nuEL3jcpl2Nj"
      }
    },
    {
      "cell_type": "code",
      "source": [
        "from typing import List\n",
        "\n",
        "class Solution:\n",
        "    def validMountainArray(self, arr: List[int]) -> bool:\n",
        "        n = len(arr)\n",
        "\n",
        "        if n < 3:\n",
        "            return False\n",
        "\n",
        "        i = 0\n",
        "\n",
        "        # 증가하는 부분\n",
        "        while i + 1 < n and arr[i] < arr[i + 1]:\n",
        "            i += 1\n",
        "\n",
        "        # 최대값이 첫 번째 또는 마지막 요소인 경우\n",
        "        if i == 0 or i == n - 1:\n",
        "            return False\n",
        "\n",
        "        # 감소하는 부분\n",
        "        while i + 1 < n and arr[i] > arr[i + 1]:\n",
        "            i += 1\n",
        "\n",
        "        return i == n - 1"
      ],
      "metadata": {
        "id": "HxnnyLSdl6cQ"
      },
      "execution_count": null,
      "outputs": []
    },
    {
      "cell_type": "markdown",
      "source": [
        "942. DI String Match"
      ],
      "metadata": {
        "id": "8NVV_NP4l8mE"
      }
    },
    {
      "cell_type": "code",
      "source": [
        "from typing import List\n",
        "\n",
        "class Solution:\n",
        "    def diStringMatch(self, s: str) -> List[int]:\n",
        "        n = len(s)\n",
        "        low, high = 0, n\n",
        "        result = []\n",
        "\n",
        "        for char in s:\n",
        "            if char == 'I':\n",
        "                result.append(low)\n",
        "                low += 1\n",
        "            else:  # char == 'D'\n",
        "                result.append(high)\n",
        "                high -= 1\n",
        "\n",
        "        # 마지막 요소 추가\n",
        "        result.append(low)  # low와 high는 같아짐\n",
        "\n",
        "        return result"
      ],
      "metadata": {
        "id": "4kRLJdP7mAED"
      },
      "execution_count": null,
      "outputs": []
    },
    {
      "cell_type": "markdown",
      "source": [
        "944. Delete Columns to Make Sorted"
      ],
      "metadata": {
        "id": "unhfZz-pmC0p"
      }
    },
    {
      "cell_type": "code",
      "source": [
        "from typing import List\n",
        "\n",
        "class Solution:\n",
        "    def minDeletionSize(self, strs: List[str]) -> int:\n",
        "        num_deletions = 0\n",
        "\n",
        "        # 각 열을 검사\n",
        "        for col in range(len(strs[0])):\n",
        "            for row in range(1, len(strs)):\n",
        "                # 현재 열이 정렬되지 않은 경우\n",
        "                if strs[row][col] < strs[row - 1][col]:\n",
        "                    num_deletions += 1\n",
        "                    break\n",
        "\n",
        "        return num_deletions"
      ],
      "metadata": {
        "id": "Fju-8_thmG_Y"
      },
      "execution_count": null,
      "outputs": []
    },
    {
      "cell_type": "markdown",
      "source": [
        "953. Verifying an Alien Dictionary"
      ],
      "metadata": {
        "id": "dDqsq5K6mJAp"
      }
    },
    {
      "cell_type": "code",
      "source": [
        "from typing import List\n",
        "\n",
        "class Solution:\n",
        "    def isAlienSorted(self, words: List[str], order: str) -> bool:\n",
        "        # 알파벳 순서를 딕셔너리에 매핑\n",
        "        order_index = {char: index for index, char in enumerate(order)}\n",
        "\n",
        "        # 각 단어를 순회하며 정렬 확인\n",
        "        for i in range(len(words) - 1):\n",
        "            word1, word2 = words[i], words[i + 1]\n",
        "            # 두 단어를 비교\n",
        "            for j in range(min(len(word1), len(word2))):\n",
        "                if word1[j] != word2[j]:\n",
        "                    # 두 단어의 현재 문자 비교\n",
        "                    if order_index[word1[j]] > order_index[word2[j]]:\n",
        "                        return False\n",
        "                    break\n",
        "            else:\n",
        "                # 첫 단어가 두 번째 단어의 접두사인 경우\n",
        "                if len(word1) > len(word2):\n",
        "                    return False\n",
        "\n",
        "        return True"
      ],
      "metadata": {
        "id": "2ghmWF8gmOS8"
      },
      "execution_count": null,
      "outputs": []
    },
    {
      "cell_type": "markdown",
      "source": [
        "961. N-Repeated Element in Size 2N Array"
      ],
      "metadata": {
        "id": "4y0fIPF4mR5m"
      }
    },
    {
      "cell_type": "code",
      "source": [
        "from typing import List\n",
        "from collections import Counter\n",
        "\n",
        "class Solution:\n",
        "    def repeatedNTimes(self, nums: List[int]) -> int:\n",
        "        count = Counter(nums)\n",
        "\n",
        "        # N번 반복되는 요소를 찾기\n",
        "        for num, freq in count.items():\n",
        "            if freq == len(nums) // 2:\n",
        "                return num"
      ],
      "metadata": {
        "id": "DiwVxHOfmYj6"
      },
      "execution_count": null,
      "outputs": []
    },
    {
      "cell_type": "markdown",
      "source": [
        "965. Univalued Binary Tree"
      ],
      "metadata": {
        "id": "02DR2142mayx"
      }
    },
    {
      "cell_type": "code",
      "source": [
        "# Definition for a binary tree node.\n",
        "class TreeNode:\n",
        "    def __init__(self, val=0, left=None, right=None):\n",
        "        self.val = val\n",
        "        self.left = left\n",
        "        self.right = right\n",
        "\n",
        "class Solution:\n",
        "    def isUnivalTree(self, root: Optional[TreeNode]) -> bool:\n",
        "        if not root:\n",
        "            return True\n",
        "\n",
        "        # 현재 노드의 값과 자식 노드의 값을 비교\n",
        "        if root.left and root.left.val != root.val:\n",
        "            return False\n",
        "        if root.right and root.right.val != root.val:\n",
        "            return False\n",
        "\n",
        "        # 재귀적으로 왼쪽과 오른쪽 서브트리를 검사\n",
        "        return self.isUnivalTree(root.left) and self.isUnivalTree(root.right)"
      ],
      "metadata": {
        "id": "s-4_g1lFmfL6"
      },
      "execution_count": null,
      "outputs": []
    },
    {
      "cell_type": "markdown",
      "source": [
        "976. Largest  Perimeter Triangle"
      ],
      "metadata": {
        "id": "6ZxOA7BwmmHK"
      }
    },
    {
      "cell_type": "code",
      "source": [
        "from typing import List\n",
        "\n",
        "class Solution:\n",
        "    def largestPerimeter(self, nums: List[int]) -> int:\n",
        "        # 배열을 내림차순으로 정렬\n",
        "        nums.sort(reverse=True)\n",
        "\n",
        "        # 삼각형의 조건을 만족하는 세 변을 찾기\n",
        "        for i in range(len(nums) - 2):\n",
        "            if nums[i] < nums[i + 1] + nums[i + 2]:\n",
        "                return nums[i] + nums[i + 1] + nums[i + 2]\n",
        "\n",
        "        return 0"
      ],
      "metadata": {
        "id": "01mZ0lU4mrFa"
      },
      "execution_count": null,
      "outputs": []
    },
    {
      "cell_type": "markdown",
      "source": [
        "977. Squares of a Sorted Array"
      ],
      "metadata": {
        "id": "_hGlYTnLmszG"
      }
    },
    {
      "cell_type": "code",
      "source": [
        "from typing import List\n",
        "\n",
        "class Solution:\n",
        "    def sortedSquares(self, nums: List[int]) -> List[int]:\n",
        "        # 제곱한 후 정렬하여 반환\n",
        "        return sorted(x * x for x in nums)"
      ],
      "metadata": {
        "id": "GK_yUTm4mwQn"
      },
      "execution_count": null,
      "outputs": []
    },
    {
      "cell_type": "markdown",
      "source": [
        "993. Cousins in Binary Tree"
      ],
      "metadata": {
        "id": "dGm-kX38myT-"
      }
    },
    {
      "cell_type": "code",
      "source": [
        "from typing import Optional, Tuple\n",
        "from collections import deque\n",
        "\n",
        "# Definition for a binary tree node.\n",
        "class TreeNode:\n",
        "    def __init__(self, val=0, left=None, right=None):\n",
        "        self.val = val\n",
        "        self.left = left\n",
        "        self.right = right\n",
        "\n",
        "class Solution:\n",
        "    def isCousins(self, root: Optional[TreeNode], x: int, y: int) -> bool:\n",
        "        if not root:\n",
        "            return False\n",
        "\n",
        "        queue = deque([(root, None)])  # (노드, 부모)\n",
        "\n",
        "        while queue:\n",
        "            level_size = len(queue)\n",
        "            x_parent = y_parent = None\n",
        "\n",
        "            for _ in range(level_size):\n",
        "                node, parent = queue.popleft()\n",
        "\n",
        "                if node.val == x:\n",
        "                    x_parent = parent\n",
        "                elif node.val == y:\n",
        "                    y_parent = parent\n",
        "\n",
        "                if node.left:\n",
        "                    queue.append((node.left, node))\n",
        "                if node.right:\n",
        "                    queue.append((node.right, node))\n",
        "\n",
        "            # 같은 깊이에 위치하면서 부모가 다르면 사촌 관계\n",
        "            if x_parent and y_parent:\n",
        "                return x_parent != y_parent\n",
        "            if x_parent or y_parent:\n",
        "                return False\n",
        "\n",
        "        return False"
      ],
      "metadata": {
        "id": "WHnFK57um3ZK"
      },
      "execution_count": null,
      "outputs": []
    },
    {
      "cell_type": "markdown",
      "source": [
        "997. Find the Town Judge"
      ],
      "metadata": {
        "id": "lC7gwoDQm5Xn"
      }
    },
    {
      "cell_type": "code",
      "source": [
        "from typing import List\n",
        "\n",
        "class Solution:\n",
        "    def findJudge(self, n: int, trust: List[List[int]]) -> int:\n",
        "        if n == 1 and not trust:\n",
        "            return 1  # 단 한 명인 경우\n",
        "\n",
        "        trust_counts = [0] * (n + 1)  # 신뢰받는 수\n",
        "        trusts = [0] * (n + 1)  # 신뢰하는 수\n",
        "\n",
        "        for a, b in trust:\n",
        "            trust_counts[b] += 1  # b가 신뢰받는 수 증가\n",
        "            trusts[a] += 1  # a가 신뢰하는 수 증가\n",
        "\n",
        "        for i in range(1, n + 1):\n",
        "            if trust_counts[i] == n - 1 and trusts[i] == 0:\n",
        "                return i  # 판사 조건을 만족하는 사람\n",
        "\n",
        "        return -1  # 판사가 없는 경우"
      ],
      "metadata": {
        "id": "8HpqO0u0m8oU"
      },
      "execution_count": null,
      "outputs": []
    },
    {
      "cell_type": "markdown",
      "source": [
        "999. Available Captures for Rook"
      ],
      "metadata": {
        "id": "c7xXeNWdm-v5"
      }
    },
    {
      "cell_type": "code",
      "source": [
        "from typing import List\n",
        "\n",
        "class Solution:\n",
        "    def numRookCaptures(self, board: List[List[str]]) -> int:\n",
        "        # 룩의 위치를 찾기\n",
        "        rook_position = None\n",
        "        for i in range(8):\n",
        "            for j in range(8):\n",
        "                if board[i][j] == 'R':\n",
        "                    rook_position = (i, j)\n",
        "                    break\n",
        "            if rook_position:\n",
        "                break\n",
        "\n",
        "        if not rook_position:\n",
        "            return 0\n",
        "\n",
        "        x, y = rook_position\n",
        "        captures = 0\n",
        "\n",
        "        # 룩이 잡을 수 있는 방향 (상, 하, 좌, 우)\n",
        "        directions = [(-1, 0), (1, 0), (0, -1), (0, 1)]\n",
        "\n",
        "        for dx, dy in directions:\n",
        "            nx, ny = x + dx, y + dy\n",
        "            while 0 <= nx < 8 and 0 <= ny < 8:\n",
        "                if board[nx][ny] == 'B':\n",
        "                    break  # 장애물(Bishop) 발견\n",
        "                if board[nx][ny] == 'p':\n",
        "                    captures += 1  # 폰 발견\n",
        "                    break\n",
        "                nx += dx\n",
        "                ny += dy\n",
        "\n",
        "        return captures"
      ],
      "metadata": {
        "id": "mMce3SmPnDP1"
      },
      "execution_count": null,
      "outputs": []
    },
    {
      "cell_type": "markdown",
      "source": [
        "1002. Find Common Charaters"
      ],
      "metadata": {
        "id": "toVK75JtnFfZ"
      }
    },
    {
      "cell_type": "code",
      "source": [
        "from typing import List\n",
        "from collections import Counter\n",
        "\n",
        "class Solution:\n",
        "    def commonChars(self, words: List[str]) -> List[str]:\n",
        "        # 첫 번째 단어의 문자 빈도를 기준으로 설정\n",
        "        common_count = Counter(words[0])\n",
        "\n",
        "        # 나머지 단어들에 대해 공통 문자의 빈도를 계산\n",
        "        for word in words[1:]:\n",
        "            common_count &= Counter(word)  # 교집합으로 공통 문자 빈도 업데이트\n",
        "\n",
        "        # 결과 생성\n",
        "        result = []\n",
        "        for char, count in common_count.items():\n",
        "            result.extend([char] * count)  # 공통 문자를 해당 빈도만큼 추가\n",
        "\n",
        "        return result"
      ],
      "metadata": {
        "id": "1vrNcebnnJJc"
      },
      "execution_count": null,
      "outputs": []
    },
    {
      "cell_type": "markdown",
      "source": [
        "1005. Maximize Sum of Array After K Negations"
      ],
      "metadata": {
        "id": "oiQEhyyFnS6Y"
      }
    },
    {
      "cell_type": "code",
      "source": [
        "from typing import List\n",
        "\n",
        "class Solution:\n",
        "    def largestSumAfterKNegations(self, nums: List[int], k: int) -> int:\n",
        "        # 배열을 정렬\n",
        "        nums.sort()\n",
        "\n",
        "        # 음수를 k번 반전\n",
        "        for i in range(len(nums)):\n",
        "            if k > 0 and nums[i] < 0:\n",
        "                nums[i] = -nums[i]\n",
        "                k -= 1\n",
        "\n",
        "        # k가 남은 경우, 가장 작은 수를 반전하여 최대 합 계산\n",
        "        if k % 2 == 1:\n",
        "            nums.sort()  # 다시 정렬하여 가장 작은 수를 찾음\n",
        "            nums[0] = -nums[0]  # 가장 작은 수를 반전\n",
        "\n",
        "        return sum(nums)"
      ],
      "metadata": {
        "id": "AgIjbz7anaji"
      },
      "execution_count": null,
      "outputs": []
    },
    {
      "cell_type": "markdown",
      "source": [
        "1009. Complement of Base 10 Integer"
      ],
      "metadata": {
        "id": "4XBbHgyDncyM"
      }
    },
    {
      "cell_type": "code",
      "source": [
        "class Solution:\n",
        "    def bitwiseComplement(self, n: int) -> int:\n",
        "        # n이 0이면 보완값은 1\n",
        "        if n == 0:\n",
        "            return 1\n",
        "\n",
        "        # n의 비트 길이를 구함\n",
        "        bit_length = n.bit_length()\n",
        "\n",
        "        # 모든 비트를 1로 설정한 수 (2^bit_length - 1)\n",
        "        all_ones = (1 << bit_length) - 1\n",
        "\n",
        "        # n의 비트 보완값 계산\n",
        "        return n ^ all_ones"
      ],
      "metadata": {
        "id": "w86qJHFcniqI"
      },
      "execution_count": null,
      "outputs": []
    },
    {
      "cell_type": "markdown",
      "source": [
        "1018. Binary Prefix Divisible By 5"
      ],
      "metadata": {
        "id": "BGit-t1ank4J"
      }
    },
    {
      "cell_type": "code",
      "source": [
        "from typing import List\n",
        "\n",
        "class Solution:\n",
        "    def prefixesDivBy5(self, nums: List[int]) -> List[bool]:\n",
        "        result = []\n",
        "        current_value = 0\n",
        "\n",
        "        for num in nums:\n",
        "            # 이진 접두사를 계산\n",
        "            current_value = (current_value << 1) | num\n",
        "            # 5로 나누어 떨어지는지 확인\n",
        "            result.append(current_value % 5 == 0)\n",
        "\n",
        "        return result"
      ],
      "metadata": {
        "id": "qK__XGLfns-c"
      },
      "execution_count": null,
      "outputs": []
    },
    {
      "cell_type": "markdown",
      "source": [
        "1021. Remove Outermost Parentheses"
      ],
      "metadata": {
        "id": "Lpk6d5gnnqVn"
      }
    },
    {
      "cell_type": "code",
      "source": [
        "class Solution:\n",
        "    def removeOuterParentheses(self, s: str) -> str:\n",
        "        stack = []\n",
        "        result = []\n",
        "        outer_start = 0  # 바깥쪽 괄호의 시작 인덱스\n",
        "\n",
        "        for i, char in enumerate(s):\n",
        "            if char == '(':\n",
        "                if not stack:\n",
        "                    outer_start = i  # 바깥쪽 괄호의 시작 인덱스 업데이트\n",
        "                stack.append(char)\n",
        "            else:  # char == ')'\n",
        "                stack.pop()\n",
        "                if not stack:\n",
        "                    # 바깥쪽 괄호 쌍을 제외하고 결과에 추가\n",
        "                    result.append(s[outer_start + 1:i])  # 바깥 괄호를 제외한 부분\n",
        "\n",
        "        return ''.join(result)"
      ],
      "metadata": {
        "id": "6aHi6ea6nzZG"
      },
      "execution_count": null,
      "outputs": []
    },
    {
      "cell_type": "markdown",
      "source": [
        "1022. Sum of Root To Leaf Binary Numbers"
      ],
      "metadata": {
        "id": "XPAXZeFBn1da"
      }
    },
    {
      "cell_type": "code",
      "source": [
        "from typing import Optional\n",
        "\n",
        "# Definition for a binary tree node.\n",
        "class TreeNode:\n",
        "    def __init__(self, val=0, left=None, right=None):\n",
        "        self.val = val\n",
        "        self.left = left\n",
        "        self.right = right\n",
        "\n",
        "class Solution:\n",
        "    def sumRootToLeaf(self, root: Optional[TreeNode]) -> int:\n",
        "        def dfs(node, current_sum):\n",
        "            if not node:\n",
        "                return 0\n",
        "\n",
        "            # 현재 경로의 이진 수를 업데이트\n",
        "            current_sum = (current_sum << 1) | node.val\n",
        "\n",
        "            # 리프 노드에 도달한 경우\n",
        "            if not node.left and not node.right:\n",
        "                return current_sum\n",
        "\n",
        "            # 왼쪽과 오른쪽 자식으로 DFS 탐색\n",
        "            return dfs(node.left, current_sum) + dfs(node.right, current_sum)\n",
        "\n",
        "        return dfs(root, 0)"
      ],
      "metadata": {
        "id": "tTdFP0bRn7Ie"
      },
      "execution_count": null,
      "outputs": []
    },
    {
      "cell_type": "markdown",
      "source": [
        "1030. Matrix Cells in Distance Order"
      ],
      "metadata": {
        "id": "rww4CkvAn9MV"
      }
    },
    {
      "cell_type": "code",
      "source": [
        "from typing import List\n",
        "\n",
        "class Solution:\n",
        "    def allCellsDistOrder(self, rows: int, cols: int, rCenter: int, cCenter: int) -> List[List[int]]:\n",
        "        cells = []\n",
        "\n",
        "        # 모든 셀의 좌표를 생성\n",
        "        for r in range(rows):\n",
        "            for c in range(cols):\n",
        "                cells.append((r, c))\n",
        "\n",
        "        # 거리 기준으로 정렬\n",
        "        cells.sort(key=lambda x: abs(x[0] - rCenter) + abs(x[1] - cCenter))\n",
        "\n",
        "        return cells"
      ],
      "metadata": {
        "id": "mr4K2--foCRh"
      },
      "execution_count": null,
      "outputs": []
    },
    {
      "cell_type": "markdown",
      "source": [
        "1037. Valid Boomerang"
      ],
      "metadata": {
        "id": "fUqf7K5DoD_1"
      }
    },
    {
      "cell_type": "code",
      "source": [
        "from typing import List\n",
        "\n",
        "class Solution:\n",
        "    def isBoomerang(self, points: List[List[int]]) -> bool:\n",
        "        # 세 점을 각각 변수에 할당\n",
        "        p1, p2, p3 = points\n",
        "\n",
        "        # 두 점이 같은 경우 부메랑이 될 수 없음\n",
        "        if p1 == p2 or p1 == p3 or p2 == p3:\n",
        "            return False\n",
        "\n",
        "        # 세 점이 일직선에 있는지 확인 (기울기 비교)\n",
        "        # (y2 - y1) / (x2 - x1) != (y3 - y1) / (x3 - x1)\n",
        "        # 곱셈으로 변형하여 나누기 오류 방지\n",
        "        return (p2[0] - p1[0]) * (p3[1] - p1[1]) != (p3[0] - p1[0]) * (p2[1] - p1[1])"
      ],
      "metadata": {
        "id": "tPrKaVZGoH34"
      },
      "execution_count": null,
      "outputs": []
    },
    {
      "cell_type": "markdown",
      "source": [
        "1046. Last Stone Weight"
      ],
      "metadata": {
        "id": "pFaXuxRkoJtU"
      }
    },
    {
      "cell_type": "code",
      "source": [
        "from typing import List\n",
        "import heapq\n",
        "\n",
        "class Solution:\n",
        "    def lastStoneWeight(self, stones: List[int]) -> int:\n",
        "        # 최대 힙을 사용하기 위해 각 돌의 무게를 음수로 저장\n",
        "        max_heap = [-stone for stone in stones]\n",
        "        heapq.heapify(max_heap)\n",
        "\n",
        "        while len(max_heap) > 1:\n",
        "            # 가장 무거운 두 돌을 꺼냄\n",
        "            first = -heapq.heappop(max_heap)\n",
        "            second = -heapq.heappop(max_heap)\n",
        "\n",
        "            # 두 돌이 같으면 그냥 버리고, 다르면 차이를 다시 힙에 추가\n",
        "            if first != second:\n",
        "                heapq.heappush(max_heap, -(first - second))\n",
        "\n",
        "        # 남은 돌이 없다면 0, 하나만 남았다면 그 무게를 반환\n",
        "        return -max_heap[0] if max_heap else 0"
      ],
      "metadata": {
        "id": "tXqzqLfSoQCG"
      },
      "execution_count": null,
      "outputs": []
    },
    {
      "cell_type": "markdown",
      "source": [
        "1047. Remove All Adjacent Duplicates In String"
      ],
      "metadata": {
        "id": "UiZjY5bYoSqI"
      }
    },
    {
      "cell_type": "code",
      "source": [
        "class Solution:\n",
        "    def removeDuplicates(self, s: str) -> str:\n",
        "        stack = []\n",
        "        for char in s:\n",
        "            if stack and stack[-1] == char:\n",
        "                stack.pop()\n",
        "            else:\n",
        "                stack.append(char)\n",
        "        return ''.join(stack)"
      ],
      "metadata": {
        "id": "ooqZs7V6oYfh"
      },
      "execution_count": null,
      "outputs": []
    },
    {
      "cell_type": "markdown",
      "source": [
        "1051. Height Checker"
      ],
      "metadata": {
        "id": "nK0m-b68oZtj"
      }
    },
    {
      "cell_type": "code",
      "source": [
        "from typing import List\n",
        "\n",
        "class Solution:\n",
        "    def heightChecker(self, heights: List[int]) -> int:\n",
        "        # 원래 배열을 정렬합니다.\n",
        "        expected = sorted(heights)\n",
        "        # 잘못된 위치의 학생 수를 계산합니다.\n",
        "        count = sum(1 for h1, h2 in zip(heights, expected) if h1 != h2)\n",
        "        return count"
      ],
      "metadata": {
        "id": "FKEX5u5DocvZ"
      },
      "execution_count": null,
      "outputs": []
    },
    {
      "cell_type": "markdown",
      "source": [
        "1071. Greatest Common Divisor of Strings"
      ],
      "metadata": {
        "id": "HqJniiTToeDE"
      }
    },
    {
      "cell_type": "code",
      "source": [
        "class Solution:\n",
        "    def gcdOfStrings(self, str1: str, str2: str) -> str:\n",
        "        def gcd(a: int, b: int) -> int:\n",
        "            while b:\n",
        "                a, b = b, a % b\n",
        "            return a\n",
        "\n",
        "        # 두 문자열의 길이의 최대 공약수를 구합니다.\n",
        "        len_gcd = gcd(len(str1), len(str2))\n",
        "        candidate = str1[:len_gcd]\n",
        "\n",
        "        # candidate가 str1과 str2를 구성하는지 확인합니다.\n",
        "        if candidate * (len(str1) // len_gcd) == str1 and candidate * (len(str2) // len_gcd) == str2:\n",
        "            return candidate\n",
        "        return \"\""
      ],
      "metadata": {
        "id": "nEObIOi6okb9"
      },
      "execution_count": null,
      "outputs": []
    },
    {
      "cell_type": "markdown",
      "source": [
        "1078. Occurences After Bigram"
      ],
      "metadata": {
        "id": "V3X9HbHKolpC"
      }
    },
    {
      "cell_type": "code",
      "source": [
        "from typing import List\n",
        "\n",
        "class Solution:\n",
        "    def findOcurrences(self, text: str, first: str, second: str) -> List[str]:\n",
        "        words = text.split()\n",
        "        result = []\n",
        "\n",
        "        for i in range(len(words) - 2):\n",
        "            if words[i] == first and words[i + 1] == second:\n",
        "                result.append(words[i + 2])\n",
        "\n",
        "        return result"
      ],
      "metadata": {
        "id": "JBWf4-yYopiM"
      },
      "execution_count": null,
      "outputs": []
    },
    {
      "cell_type": "markdown",
      "source": [
        "1089. Duplicate Zeros"
      ],
      "metadata": {
        "id": "a-PevIbUorZD"
      }
    },
    {
      "cell_type": "code",
      "source": [
        "from typing import List\n",
        "\n",
        "class Solution:\n",
        "    def duplicateZeros(self, arr: List[int]) -> None:\n",
        "        zeros = arr.count(0)  # 배열에 있는 0의 개수를 센다.\n",
        "        n = len(arr)\n",
        "\n",
        "        for i in range(n - 1, -1, -1):\n",
        "            if arr[i] == 0:\n",
        "                zeros -= 1\n",
        "                if i + zeros < n:\n",
        "                    arr[i + zeros] = 0\n",
        "                if i + zeros + 1 < n:\n",
        "                    arr[i + zeros + 1] = 0\n",
        "            else:\n",
        "                if i + zeros < n:\n",
        "                    arr[i + zeros] = arr[i]"
      ],
      "metadata": {
        "id": "Wy71BLwPovcM"
      },
      "execution_count": null,
      "outputs": []
    },
    {
      "cell_type": "markdown",
      "source": [
        "1103. Distribute Candies to People"
      ],
      "metadata": {
        "id": "ATYCj6E3ouuD"
      }
    },
    {
      "cell_type": "code",
      "source": [
        "from typing import List\n",
        "\n",
        "class Solution:\n",
        "    def distributeCandies(self, candies: int, num_people: int) -> List[int]:\n",
        "        result = [0] * num_people  # 각 사람의 사탕 수를 저장할 리스트 초기화\n",
        "        i = 0  # 현재 사탕을 받을 사람의 인덱스\n",
        "        while candies > 0:\n",
        "            # 현재 사람에게 줄 사탕 수를 계산\n",
        "            give = min(candies, i + 1)  # 남은 사탕과 현재 주어야 할 수 중 작은 값을 선택\n",
        "            result[i % num_people] += give  # 해당 사람에게 사탕 추가\n",
        "            candies -= give  # 남은 사탕 수 줄이기\n",
        "            i += 1  # 다음 사람으로 이동\n",
        "\n",
        "        return result"
      ],
      "metadata": {
        "id": "SIHAN1_do4uR"
      },
      "execution_count": null,
      "outputs": []
    },
    {
      "cell_type": "markdown",
      "source": [
        "1108. Defanging an IP Address"
      ],
      "metadata": {
        "id": "lQqS34Gvo6Lz"
      }
    },
    {
      "cell_type": "code",
      "source": [
        "class Solution:\n",
        "    def defangIPaddr(self, address: str) -> str:\n",
        "        return address.replace('.', '[.]')"
      ],
      "metadata": {
        "id": "NfRTJJUro_Fn"
      },
      "execution_count": null,
      "outputs": []
    },
    {
      "cell_type": "markdown",
      "source": [
        "1114. Print in Order"
      ],
      "metadata": {
        "id": "tJ6avvgLpAGk"
      }
    },
    {
      "cell_type": "code",
      "source": [
        "from threading import Semaphore\n",
        "\n",
        "class Foo:\n",
        "    def __init__(self):\n",
        "        self.first_done = Semaphore(0)\n",
        "        self.second_done = Semaphore(0)\n",
        "\n",
        "    def first(self, printFirst: 'Callable[[], None]') -> None:\n",
        "        # printFirst() outputs \"first\". Do not change or remove this line.\n",
        "        printFirst()\n",
        "        self.first_done.release()  # first가 끝났음을 알림\n",
        "\n",
        "    def second(self, printSecond: 'Callable[[], None]') -> None:\n",
        "        self.first_done.acquire()  # first가 끝날 때까지 대기\n",
        "        # printSecond() outputs \"second\". Do not change or remove this line.\n",
        "        printSecond()\n",
        "        self.second_done.release()  # second가 끝났음을 알림\n",
        "\n",
        "    def third(self, printThird: 'Callable[[], None]') -> None:\n",
        "        self.second_done.acquire()  # second가 끝날 때까지 대기\n",
        "        # printThird() outputs \"third\". Do not change or remove this line.\n",
        "        printThird()"
      ],
      "metadata": {
        "id": "zBmwYuCIpDUs"
      },
      "execution_count": null,
      "outputs": []
    },
    {
      "cell_type": "markdown",
      "source": [
        "1122. Relative Sort Array"
      ],
      "metadata": {
        "id": "Wpz_Si4TpF4n"
      }
    },
    {
      "cell_type": "code",
      "source": [
        "from typing import List\n",
        "from collections import Counter\n",
        "\n",
        "class Solution:\n",
        "    def relativeSortArray(self, arr1: List[int], arr2: List[int]) -> List[int]:\n",
        "        # arr1의 요소 개수를 세기\n",
        "        count = Counter(arr1)\n",
        "        result = []\n",
        "\n",
        "        # arr2의 순서에 따라 요소 추가\n",
        "        for num in arr2:\n",
        "            result.extend([num] * count[num])  # arr2의 각 요소를 count만큼 추가\n",
        "\n",
        "        # arr2에 없는 요소 정렬 후 추가\n",
        "        remaining = []\n",
        "        for num in count:\n",
        "            if num not in arr2:\n",
        "                remaining.extend([num] * count[num])\n",
        "\n",
        "        result.extend(sorted(remaining))  # 나머지 요소를 정렬하여 추가\n",
        "\n",
        "        return result"
      ],
      "metadata": {
        "id": "WYC6hjY_pJ5J"
      },
      "execution_count": null,
      "outputs": []
    },
    {
      "cell_type": "markdown",
      "source": [
        "1128. Number of Equivalent Domino Pairs"
      ],
      "metadata": {
        "id": "JwRYV1nvpMjU"
      }
    },
    {
      "cell_type": "code",
      "source": [
        "from typing import List\n",
        "from collections import defaultdict\n",
        "\n",
        "class Solution:\n",
        "    def numEquivDominoPairs(self, dominoes: List[List[int]]) -> int:\n",
        "        count = defaultdict(int)  # 도미노 조각의 개수를 저장할 딕셔너리\n",
        "        pairs = 0\n",
        "\n",
        "        for a, b in dominoes:\n",
        "            # 정규화하여 튜플 형태로 저장\n",
        "            key = (min(a, b), max(a, b))\n",
        "            count[key] += 1  # 해당 도미노의 개수를 증가\n",
        "\n",
        "        # 쌍의 수 계산\n",
        "        for c in count.values():\n",
        "            pairs += c * (c - 1) // 2  # nC2 (조합) 공식을 사용하여 쌍 수 계산\n",
        "\n",
        "        return pairs"
      ],
      "metadata": {
        "id": "Aj5DQatypSsv"
      },
      "execution_count": null,
      "outputs": []
    },
    {
      "cell_type": "markdown",
      "source": [
        "1137. N-th Tribonacci Number"
      ],
      "metadata": {
        "id": "c7m_OTFepUf3"
      }
    },
    {
      "cell_type": "code",
      "source": [
        "class Solution:\n",
        "    def tribonacci(self, n: int) -> int:\n",
        "        if n == 0:\n",
        "            return 0\n",
        "        elif n == 1 or n == 2:\n",
        "            return 1\n",
        "\n",
        "        # 트리보나치 수열을 저장할 리스트 초기화\n",
        "        tribonacci_numbers = [0] * (n + 1)\n",
        "        tribonacci_numbers[1], tribonacci_numbers[2] = 1, 1\n",
        "\n",
        "        # 트리보나치 수열 계산\n",
        "        for i in range(3, n + 1):\n",
        "            tribonacci_numbers[i] = tribonacci_numbers[i - 1] + tribonacci_numbers[i - 2] + tribonacci_numbers[i - 3]\n",
        "\n",
        "        return tribonacci_numbers[n]"
      ],
      "metadata": {
        "id": "4Wdg5WUSpapm"
      },
      "execution_count": null,
      "outputs": []
    },
    {
      "cell_type": "markdown",
      "source": [
        "1154. Day of the Year"
      ],
      "metadata": {
        "id": "6Nrz7TL_pcOO"
      }
    },
    {
      "cell_type": "code",
      "source": [
        "class Solution:\n",
        "    def dayOfYear(self, date: str) -> int:\n",
        "        year, month, day = map(int, date.split('-'))  # 날짜를 연도, 월, 일로 분리\n",
        "        days_in_month = [31, 28 + self.isLeapYear(year), 31, 30, 31, 30, 31, 31, 30, 31, 30, 31]\n",
        "\n",
        "        # 월별로 누적 일수를 계산\n",
        "        return sum(days_in_month[:month - 1]) + day\n",
        "\n",
        "    def isLeapYear(self, year: int) -> int:\n",
        "        # 윤년 계산\n",
        "        return 1 if (year % 4 == 0 and year % 100 != 0) or (year % 400 == 0) else 0"
      ],
      "metadata": {
        "id": "PFmgAApFplcU"
      },
      "execution_count": null,
      "outputs": []
    },
    {
      "cell_type": "markdown",
      "source": [
        "1160. Find Words That Can Be Formed by Characters"
      ],
      "metadata": {
        "id": "FqjXEw3OpmoA"
      }
    },
    {
      "cell_type": "code",
      "source": [
        "from typing import List\n",
        "from collections import Counter\n",
        "\n",
        "class Solution:\n",
        "    def countCharacters(self, words: List[str], chars: str) -> int:\n",
        "        chars_count = Counter(chars)  # 주어진 문자의 개수를 세기\n",
        "        total_length = 0\n",
        "\n",
        "        for word in words:\n",
        "            word_count = Counter(word)  # 각 단어의 문자 개수 세기\n",
        "            # 단어의 모든 문자가 chars_count에 포함되어 있는지 확인\n",
        "            if all(word_count[char] <= chars_count[char] for char in word_count):\n",
        "                total_length += len(word)  # 조건을 만족하면 단어 길이를 합산\n",
        "\n",
        "        return total_length"
      ],
      "metadata": {
        "id": "lHe-RnxOprtF"
      },
      "execution_count": null,
      "outputs": []
    },
    {
      "cell_type": "markdown",
      "source": [
        "1175. Prime Arrangements"
      ],
      "metadata": {
        "id": "ravsALOWptrb"
      }
    },
    {
      "cell_type": "code",
      "source": [
        "from math import factorial\n",
        "\n",
        "class Solution:\n",
        "    def numPrimeArrangements(self, n: int) -> int:\n",
        "        def is_prime(num):\n",
        "            if num < 2:\n",
        "                return False\n",
        "            for i in range(2, int(num**0.5) + 1):\n",
        "                if num % i == 0:\n",
        "                    return False\n",
        "            return True\n",
        "\n",
        "        # 소수의 개수 세기\n",
        "        prime_count = sum(1 for i in range(1, n + 1) if is_prime(i))\n",
        "        non_prime_count = n - prime_count\n",
        "\n",
        "        # 경우의 수 계산\n",
        "        return (factorial(prime_count) * factorial(non_prime_count)) % (10**9 + 7)"
      ],
      "metadata": {
        "id": "Hj7aqc2Ppxxt"
      },
      "execution_count": null,
      "outputs": []
    },
    {
      "cell_type": "markdown",
      "source": [
        "1177. Can Make Palindrome from Substring"
      ],
      "metadata": {
        "id": "bUzrRVRypy33"
      }
    },
    {
      "cell_type": "code",
      "source": [
        "from collections import Counter\n",
        "from typing import List\n",
        "\n",
        "class Solution:\n",
        "    def canMakePaliQueries(self, s: str, queries: List[List[int]]) -> List[bool]:\n",
        "        # 알파벳의 개수를 세기 위한 누적 빈도수 계산\n",
        "        prefix = [[0] * 26]  # 빈도수 배열 초기화 (각 알파벳의 빈도수)\n",
        "\n",
        "        for char in s:\n",
        "            count = prefix[-1][:]  # 이전 상태 복사\n",
        "            count[ord(char) - ord('a')] += 1  # 해당 문자의 빈도수 증가\n",
        "            prefix.append(count)  # 현재 상태 저장\n",
        "\n",
        "        result = []\n",
        "        for left, right, k in queries:\n",
        "            # 해당 구간의 빈도수 차이 계산\n",
        "            left_count = prefix[left]\n",
        "            right_count = prefix[right + 1]\n",
        "\n",
        "            # 해당 구간의 홀수 개수 구하기\n",
        "            odd_count = 0\n",
        "            for i in range(26):\n",
        "                if (right_count[i] - left_count[i]) % 2 != 0:\n",
        "                    odd_count += 1\n",
        "\n",
        "            # 홀수 개수가 k 이하이면 True, 아니면 False\n",
        "            result.append(odd_count // 2 <= k)\n",
        "\n",
        "        return result"
      ],
      "metadata": {
        "id": "YHOGNG2_p3GX"
      },
      "execution_count": null,
      "outputs": []
    },
    {
      "cell_type": "markdown",
      "source": [
        "1184. Distance Between Bus Stops"
      ],
      "metadata": {
        "id": "oNQgToVsp4mt"
      }
    },
    {
      "cell_type": "code",
      "source": [
        "from typing import List\n",
        "\n",
        "class Solution:\n",
        "    def distanceBetweenBusStops(self, distance: List[int], start: int, destination: int) -> int:\n",
        "        # 전체 거리 계산 (distance 배열의 모든 원소 합)\n",
        "        total_distance = sum(distance)\n",
        "\n",
        "        # 시계방향 거리 계산 (start에서 destination까지의 거리)\n",
        "        if start > destination:\n",
        "            start, destination = destination, start\n",
        "\n",
        "        clockwise_distance = sum(distance[start:destination])\n",
        "\n",
        "        # 반시계방향 거리 계산\n",
        "        counter_clockwise_distance = total_distance - clockwise_distance\n",
        "\n",
        "        # 최단 거리 반환\n",
        "        return min(clockwise_distance, counter_clockwise_distance)"
      ],
      "metadata": {
        "id": "Iz4OiY_6p8hl"
      },
      "execution_count": null,
      "outputs": []
    },
    {
      "cell_type": "markdown",
      "source": [
        "1185. Day of the Week"
      ],
      "metadata": {
        "id": "mPRaGlBlp9Yd"
      }
    },
    {
      "cell_type": "code",
      "source": [
        "class Solution:\n",
        "    def dayOfTheWeek(self, day: int, month: int, year: int) -> str:\n",
        "        # Zeller's Congruence\n",
        "        if month < 3:\n",
        "            month += 12\n",
        "            year -= 1\n",
        "\n",
        "        K = year % 100\n",
        "        J = year // 100\n",
        "\n",
        "        h = (day + ((13 * (month + 1)) // 5) + K + (K // 4) + (J // 4) - (2 * J)) % 7\n",
        "\n",
        "        # 요일에 해당하는 문자열을 반환\n",
        "        days_of_week = [\"Saturday\", \"Sunday\", \"Monday\", \"Tuesday\", \"Wednesday\", \"Thursday\", \"Friday\"]\n",
        "        return days_of_week[h]"
      ],
      "metadata": {
        "id": "AY276nDgp_xB"
      },
      "execution_count": null,
      "outputs": []
    },
    {
      "cell_type": "markdown",
      "source": [
        "1189. Maximum Number of Balloons"
      ],
      "metadata": {
        "id": "JMS4BNZYqBJ9"
      }
    },
    {
      "cell_type": "code",
      "source": [
        "from collections import Counter\n",
        "\n",
        "class Solution:\n",
        "    def maxNumberOfBalloons(self, text: str) -> int:\n",
        "        # 'b', 'a', 'l', 'o', 'n'의 빈도수 계산\n",
        "        count = Counter(text)\n",
        "\n",
        "        # 'balloon'을 만들기 위해 필요한 최소 횟수를 계산\n",
        "        b_count = count['b']\n",
        "        a_count = count['a']\n",
        "        l_count = count['l'] // 2  # 'l'은 2번 필요\n",
        "        o_count = count['o'] // 2  # 'o'도 2번 필요\n",
        "        n_count = count['n']\n",
        "\n",
        "        # 최소 값이 답\n",
        "        return min(b_count, a_count, l_count, o_count, n_count)"
      ],
      "metadata": {
        "id": "JgJQegehqF0a"
      },
      "execution_count": null,
      "outputs": []
    },
    {
      "cell_type": "markdown",
      "source": [
        "1200. Minimum Absolute Difference"
      ],
      "metadata": {
        "id": "7gvcOQzdqHWL"
      }
    },
    {
      "cell_type": "code",
      "source": [
        "from typing import List\n",
        "\n",
        "class Solution:\n",
        "    def minimumAbsDifference(self, arr: List[int]) -> List[List[int]]:\n",
        "        # 배열을 정렬합니다.\n",
        "        arr.sort()\n",
        "\n",
        "        # 최소 차이를 무한대로 초기화\n",
        "        min_diff = float('inf')\n",
        "\n",
        "        # 최소 차이를 구하기 위해 인접한 수들 간의 차이를 계산합니다.\n",
        "        for i in range(1, len(arr)):\n",
        "            min_diff = min(min_diff, arr[i] - arr[i-1])\n",
        "\n",
        "        # 최소 차이를 가지는 쌍을 모은 리스트\n",
        "        result = []\n",
        "\n",
        "        # 다시 배열을 순회하며 최소 차이를 가지는 쌍을 찾습니다.\n",
        "        for i in range(1, len(arr)):\n",
        "            if arr[i] - arr[i-1] == min_diff:\n",
        "                result.append([arr[i-1], arr[i]])\n",
        "\n",
        "        return result"
      ],
      "metadata": {
        "id": "kThK9DVVqMM-"
      },
      "execution_count": null,
      "outputs": []
    },
    {
      "cell_type": "markdown",
      "source": [
        "1207. Unique Number of Occurrences"
      ],
      "metadata": {
        "id": "CcVHmDhHqNfA"
      }
    },
    {
      "cell_type": "code",
      "source": [
        "from collections import Counter\n",
        "\n",
        "class Solution:\n",
        "    def uniqueOccurrences(self, arr: List[int]) -> bool:\n",
        "        # 각 숫자의 빈도를 계산\n",
        "        count = Counter(arr)\n",
        "\n",
        "        # 빈도수를 set에 넣어 중복을 제거하고, 원래의 빈도수와 비교\n",
        "        return len(count.values()) == len(set(count.values()))"
      ],
      "metadata": {
        "id": "dlcyZw13qStI"
      },
      "execution_count": null,
      "outputs": []
    },
    {
      "cell_type": "markdown",
      "source": [
        "1217. Minimum Cost to Move Chips to The Same Position"
      ],
      "metadata": {
        "id": "6K3pHxAyqT9Y"
      }
    },
    {
      "cell_type": "code",
      "source": [
        "class Solution:\n",
        "    def minCostToMoveChips(self, position: List[int]) -> int:\n",
        "        # 홀수 위치와 짝수 위치에 있는 칩의 수 계산\n",
        "        odd_count = sum(1 for p in position if p % 2 != 0)\n",
        "        even_count = len(position) - odd_count\n",
        "\n",
        "        # 최소 비용은 홀수 위치와 짝수 위치에 있는 칩 중 더 적은 수만큼 이동시키는 것\n",
        "        return min(odd_count, even_count)"
      ],
      "metadata": {
        "id": "QO69n812qZ9N"
      },
      "execution_count": null,
      "outputs": []
    },
    {
      "cell_type": "markdown",
      "source": [
        "1221. Split a String in Balanced Strings"
      ],
      "metadata": {
        "id": "idQFgMAbqa9i"
      }
    },
    {
      "cell_type": "code",
      "source": [
        "class Solution:\n",
        "    def balancedStringSplit(self, s: str) -> int:\n",
        "        # 균형을 맞춘 부분 문자열의 개수\n",
        "        balanced_count = 0\n",
        "        L_count = 0\n",
        "        R_count = 0\n",
        "\n",
        "        # 문자열을 순회하면서 'L'과 'R'의 개수를 세어 균형을 맞춘 부분을 찾는다.\n",
        "        for char in s:\n",
        "            if char == 'L':\n",
        "                L_count += 1\n",
        "            else:  # char == 'R'\n",
        "                R_count += 1\n",
        "\n",
        "            # L과 R의 개수가 같으면 균형 맞춘 부분 문자열이므로 분할 횟수를 증가시킨다.\n",
        "            if L_count == R_count:\n",
        "                balanced_count += 1\n",
        "                L_count = 0  # 새로운 균형 맞춘 부분을 시작하기 위해 초기화\n",
        "                R_count = 0  # 새로운 균형 맞춘 부분을 시작하기 위해 초기화\n",
        "\n",
        "        return balanced_count"
      ],
      "metadata": {
        "id": "-Kv3J7tnqfeo"
      },
      "execution_count": null,
      "outputs": []
    },
    {
      "cell_type": "markdown",
      "source": [
        "1232. Check If It Is a Straight Line"
      ],
      "metadata": {
        "id": "CaKwcW88qhEO"
      }
    },
    {
      "cell_type": "code",
      "source": [
        "class Solution:\n",
        "    def checkStraightLine(self, coordinates: List[List[int]]) -> bool:\n",
        "        # 첫 번째 두 점을 기준으로 기울기 계산\n",
        "        x1, y1 = coordinates[0]\n",
        "        x2, y2 = coordinates[1]\n",
        "\n",
        "        # 두 번째 점과 나머지 점들 간의 기울기를 비교\n",
        "        for i in range(2, len(coordinates)):\n",
        "            x3, y3 = coordinates[i]\n",
        "            # 기울기가 일치하는지 확인\n",
        "            if (y2 - y1) * (x3 - x2) != (y3 - y2) * (x2 - x1):\n",
        "                return False\n",
        "\n",
        "        return True"
      ],
      "metadata": {
        "id": "rvGmttvFqlYd"
      },
      "execution_count": null,
      "outputs": []
    },
    {
      "cell_type": "markdown",
      "source": [
        "1252. Cells with Odd Values in a Matrix"
      ],
      "metadata": {
        "id": "C_PI6VVNqnTo"
      }
    },
    {
      "cell_type": "code",
      "source": [
        "class Solution:\n",
        "    def oddCells(self, m: int, n: int, indices: List[List[int]]) -> int:\n",
        "        # 행과 열에 대한 증가 횟수 추적\n",
        "        row_count = [0] * m\n",
        "        col_count = [0] * n\n",
        "\n",
        "        # 각 행렬의 인덱스에 대해 증가\n",
        "        for i, j in indices:\n",
        "            row_count[i] += 1\n",
        "            col_count[j] += 1\n",
        "\n",
        "        # 홀수 값 셀 계산\n",
        "        odd_cells = 0\n",
        "        for i in range(m):\n",
        "            for j in range(n):\n",
        "                # (행의 증가 횟수 + 열의 증가 횟수)가 홀수이면 해당 셀은 홀수\n",
        "                if (row_count[i] + col_count[j]) % 2 != 0:\n",
        "                    odd_cells += 1\n",
        "\n",
        "        return odd_cells"
      ],
      "metadata": {
        "id": "VCi8QRyNqsKR"
      },
      "execution_count": null,
      "outputs": []
    },
    {
      "cell_type": "markdown",
      "source": [
        "1260. Shift 2D Grid"
      ],
      "metadata": {
        "id": "NaY3HtGfqtLz"
      }
    },
    {
      "cell_type": "code",
      "source": [
        "class Solution:\n",
        "    def shiftGrid(self, grid: List[List[int]], k: int) -> List[List[int]]:\n",
        "        m, n = len(grid), len(grid[0])\n",
        "\n",
        "        # 2D 배열을 1D 배열로 변환\n",
        "        one_d = [grid[i][j] for i in range(m) for j in range(n)]\n",
        "\n",
        "        # k를 m * n으로 나눈 나머지로 줄여준다.\n",
        "        k = k % (m * n)\n",
        "\n",
        "        # 1D 배열을 k만큼 오른쪽으로 시프트\n",
        "        one_d = one_d[-k:] + one_d[:-k]\n",
        "\n",
        "        # 1D 배열을 다시 2D 배열로 변환\n",
        "        result = [[one_d[i * n + j] for j in range(n)] for i in range(m)]\n",
        "\n",
        "        return result"
      ],
      "metadata": {
        "id": "aiPn_N9SqwbO"
      },
      "execution_count": null,
      "outputs": []
    },
    {
      "cell_type": "markdown",
      "source": [
        "1281. Subtract the Product and Sum of Digits of an Integer"
      ],
      "metadata": {
        "id": "v-oYWbg8qxms"
      }
    },
    {
      "cell_type": "code",
      "source": [
        "class Solution:\n",
        "    def subtractProductAndSum(self, n: int) -> int:\n",
        "        # n을 문자열로 변환하여 각 자릿수를 추출\n",
        "        digits = [int(digit) for digit in str(n)]\n",
        "\n",
        "        # 자릿수의 합\n",
        "        sum_digits = sum(digits)\n",
        "\n",
        "        # 자릿수의 곱\n",
        "        product_digits = 1\n",
        "        for digit in digits:\n",
        "            product_digits *= digit\n",
        "\n",
        "        # 곱에서 합을 뺀 값을 반환\n",
        "        return product_digits - sum_digits"
      ],
      "metadata": {
        "id": "W2Iqlm9kq3b2"
      },
      "execution_count": null,
      "outputs": []
    },
    {
      "cell_type": "markdown",
      "source": [
        "1287. Element Appearing More Than 25% In Sorted Array"
      ],
      "metadata": {
        "id": "Jcl_kkE9q4jj"
      }
    },
    {
      "cell_type": "code",
      "source": [
        "class Solution:\n",
        "    def findSpecialInteger(self, arr: List[int]) -> int:\n",
        "        n = len(arr)\n",
        "        threshold = n // 4  # 25%를 의미하는 임계값\n",
        "\n",
        "        # 연속된 값들만 체크하면 되므로 배열을 순차적으로 확인\n",
        "        for i in range(n):\n",
        "            # 현재 값 arr[i]의 등장 횟수 계산\n",
        "            if i + threshold < n and arr[i] == arr[i + threshold]:\n",
        "                return arr[i]\n",
        "\n",
        "        # 조건을 만족하는 원소가 없다면 None을 반환\n",
        "        return -1"
      ],
      "metadata": {
        "id": "Tizenm0Cq-hn"
      },
      "execution_count": null,
      "outputs": []
    },
    {
      "cell_type": "markdown",
      "source": [
        "1290. Convert Binary Number in a Linked List to Integer"
      ],
      "metadata": {
        "id": "Gb4aAu6Vq_cp"
      }
    },
    {
      "cell_type": "code",
      "source": [
        "class Solution:\n",
        "    def getDecimalValue(self, head: Optional[ListNode]) -> int:\n",
        "        result = 0\n",
        "        while head:\n",
        "            result = result * 2 + head.val  # 이전 값에 2배 후 현재 값 추가\n",
        "            head = head.next  # 다음 노드로 이동\n",
        "        return result"
      ],
      "metadata": {
        "id": "exGmT0PNrF6l"
      },
      "execution_count": null,
      "outputs": []
    },
    {
      "cell_type": "markdown",
      "source": [
        "1295. Find Numbers with Even Number of Digits"
      ],
      "metadata": {
        "id": "yfybnCy6rJiK"
      }
    },
    {
      "cell_type": "code",
      "source": [
        "class Solution:\n",
        "    def findNumbers(self, nums: List[int]) -> int:\n",
        "        count = 0\n",
        "        for num in nums:\n",
        "            if len(str(num)) % 2 == 0:  # 숫자를 문자열로 바꾸고 자릿수가 짝수인지 확인\n",
        "                count += 1\n",
        "        return count"
      ],
      "metadata": {
        "id": "LdvgKVABrOO3"
      },
      "execution_count": null,
      "outputs": []
    },
    {
      "cell_type": "markdown",
      "source": [
        "1299. Replace Elements with Greatest Element on Right Side"
      ],
      "metadata": {
        "id": "IozRS6w7rPcj"
      }
    },
    {
      "cell_type": "code",
      "source": [
        "class Solution:\n",
        "    def replaceElements(self, arr: List[int]) -> List[int]:\n",
        "        # 배열의 길이가 0인 경우는 빈 배열을 반환\n",
        "        n = len(arr)\n",
        "        max_val = -1  # 마지막 값은 -1로 초기화\n",
        "\n",
        "        # 배열을 오른쪽에서 왼쪽으로 순회\n",
        "        for i in range(n - 1, -1, -1):\n",
        "            current = arr[i]\n",
        "            arr[i] = max_val  # 현재 원소를 최대값으로 교체\n",
        "            max_val = max(max_val, current)  # 최대값 갱신\n",
        "\n",
        "        return arr"
      ],
      "metadata": {
        "id": "21St7FwirVQl"
      },
      "execution_count": null,
      "outputs": []
    },
    {
      "cell_type": "markdown",
      "source": [
        "1309. Decrypt String from Alphabet to Integer Mapping"
      ],
      "metadata": {
        "id": "EeVoxdmOrWbw"
      }
    },
    {
      "cell_type": "code",
      "source": [
        "class Solution:\n",
        "    def freqAlphabets(self, s: str) -> str:\n",
        "        result = []\n",
        "        i = 0\n",
        "\n",
        "        while i < len(s):\n",
        "            # '# '이 있으면 두 자리 숫자와 #을 하나의 문자로 변환\n",
        "            if i + 2 < len(s) and s[i + 2] == '#':\n",
        "                num = int(s[i:i+2])  # 두 자리 숫자 추출\n",
        "                result.append(chr(num + ord('a') - 1))  # 알파벳으로 변환\n",
        "                i += 3  # '#'을 넘기고 3칸을 이동\n",
        "            else:\n",
        "                num = int(s[i])  # 한 자리 숫자 추출\n",
        "                result.append(chr(num + ord('a') - 1))  # 알파벳으로 변환\n",
        "                i += 1  # 한 칸만 이동\n",
        "\n",
        "        return ''.join(result)  # 결과 리스트를 문자열로 변환하여 반환"
      ],
      "metadata": {
        "id": "JnqQ1vk-rdXj"
      },
      "execution_count": null,
      "outputs": []
    },
    {
      "cell_type": "markdown",
      "source": [
        "1313. Decompress Run-Length Encoded List"
      ],
      "metadata": {
        "id": "EcQmGkrVren9"
      }
    },
    {
      "cell_type": "code",
      "source": [
        "class Solution:\n",
        "    def decompressRLElist(self, nums: List[int]) -> List[int]:\n",
        "        result = []\n",
        "\n",
        "        # 짝수 인덱스는 빈도, 홀수 인덱스는 값\n",
        "        for i in range(0, len(nums), 2):\n",
        "            freq = nums[i]  # 빈도\n",
        "            val = nums[i + 1]  # 값\n",
        "            result.extend([val] * freq)  # val을 freq번만큼 추가\n",
        "\n",
        "        return result"
      ],
      "metadata": {
        "id": "vjTfuSFQrjgu"
      },
      "execution_count": null,
      "outputs": []
    },
    {
      "cell_type": "markdown",
      "source": [
        "1323. Maximum 69 Number"
      ],
      "metadata": {
        "id": "szOHHKfWrkkt"
      }
    },
    {
      "cell_type": "code",
      "source": [
        "class Solution:\n",
        "    def maximum69Number (self, num: int) -> int:\n",
        "        # num을 문자열로 변환\n",
        "        num_str = str(num)\n",
        "\n",
        "        # 첫 번째 '6'을 찾고 '9'로 변경\n",
        "        num_str = num_str.replace('6', '9', 1)  # 첫 번째만 변경\n",
        "\n",
        "        # 변경된 문자열을 다시 정수로 변환하여 반환\n",
        "        return int(num_str)"
      ],
      "metadata": {
        "id": "DV-9gk_YroRQ"
      },
      "execution_count": null,
      "outputs": []
    },
    {
      "cell_type": "markdown",
      "source": [
        "1331. Rank Transform of an Array"
      ],
      "metadata": {
        "id": "cOWMtQfyrpTJ"
      }
    },
    {
      "cell_type": "code",
      "source": [
        "class Solution:\n",
        "    def arrayRankTransform(self, arr: List[int]) -> List[int]:\n",
        "        # 원본 배열을 복사하여 정렬\n",
        "        sorted_arr = sorted(set(arr))  # 중복을 제거한 후 정렬\n",
        "\n",
        "        # 원본 배열의 값이 정렬된 배열에서 몇 번째 순위인지 찾기\n",
        "        rank_map = {num: rank + 1 for rank, num in enumerate(sorted_arr)}\n",
        "\n",
        "        # 원본 배열에 대해 순위를 대응시켜 반환\n",
        "        return [rank_map[num] for num in arr]"
      ],
      "metadata": {
        "id": "lz-Rl6B1rtLI"
      },
      "execution_count": null,
      "outputs": []
    },
    {
      "cell_type": "markdown",
      "source": [
        "1332. Remove Palindromic Subsequences"
      ],
      "metadata": {
        "id": "S4Zqbn7Xru14"
      }
    },
    {
      "cell_type": "code",
      "source": [
        "class Solution:\n",
        "    def removePalindromeSub(self, s: str) -> int:\n",
        "        # 문자열이 회문인지 확인\n",
        "        if s == s[::-1]:\n",
        "            return 1  # 회문이면 한 번의 제거로 해결\n",
        "        return 2  # 회문이 아니면 두 번의 제거로 해결"
      ],
      "metadata": {
        "id": "Z1lm4PzOrzYo"
      },
      "execution_count": null,
      "outputs": []
    },
    {
      "cell_type": "markdown",
      "source": [
        "1337. The K Weakest Rows in a Matrix"
      ],
      "metadata": {
        "id": "y-Zo-r_jr0QK"
      }
    },
    {
      "cell_type": "code",
      "source": [
        "class Solution:\n",
        "    def kWeakestRows(self, mat: List[List[int]], k: int) -> List[int]:\n",
        "        # 군인의 수와 인덱스를 튜플로 저장\n",
        "        soldiers_count = [(sum(row), i) for i, row in enumerate(mat)]\n",
        "\n",
        "        # 군인의 수를 기준으로 오름차순 정렬\n",
        "        soldiers_count.sort()\n",
        "\n",
        "        # 가장 약한 k개의 행의 인덱스를 반환\n",
        "        return [i for _, i in soldiers_count[:k]]"
      ],
      "metadata": {
        "id": "v8Qe_m33r6NT"
      },
      "execution_count": null,
      "outputs": []
    },
    {
      "cell_type": "markdown",
      "source": [
        "1342. Number of Steps to Reduce a Number to Zero"
      ],
      "metadata": {
        "id": "J2xrQQY6r9rz"
      }
    },
    {
      "cell_type": "code",
      "source": [
        "class Solution:\n",
        "    def numberOfSteps(self, num: int) -> int:\n",
        "        steps = 0\n",
        "        while num > 0:\n",
        "            if num % 2 == 0:\n",
        "                num //= 2  # 짝수일 때 2로 나눈다\n",
        "            else:\n",
        "                num -= 1  # 홀수일 때 1을 뺀다\n",
        "            steps += 1  # 한 단계를 진행할 때마다 카운트\n",
        "        return steps"
      ],
      "metadata": {
        "id": "J_m6Se4dsBhc"
      },
      "execution_count": null,
      "outputs": []
    },
    {
      "cell_type": "markdown",
      "source": [
        "1346. Check If N and Its Double Exist"
      ],
      "metadata": {
        "id": "r3KJCDa3sCUc"
      }
    },
    {
      "cell_type": "code",
      "source": [
        "class Solution:\n",
        "    def checkIfExist(self, arr: List[int]) -> bool:\n",
        "        seen = set()  # 원소를 기록할 set\n",
        "        for num in arr:\n",
        "            if 2 * num in seen or (num % 2 == 0 and num // 2 in seen):\n",
        "                return True  # num의 두 배 또는 num의 절반이 이미 존재하면 True 반환\n",
        "            seen.add(num)  # 현재 num을 set에 추가\n",
        "        return False  # 조건을 만족하는 쌍이 없다면 False 반환"
      ],
      "metadata": {
        "id": "wt0Ijl9msG29"
      },
      "execution_count": null,
      "outputs": []
    },
    {
      "cell_type": "markdown",
      "source": [
        "1351. Count Negative Numbers in a Sorted Matrix"
      ],
      "metadata": {
        "id": "1y2rmKhesIwW"
      }
    },
    {
      "cell_type": "code",
      "source": [
        "class Solution:\n",
        "    def countNegatives(self, grid: List[List[int]]) -> int:\n",
        "        count = 0\n",
        "        for row in grid:\n",
        "            # 음수의 첫 번째 인덱스를 찾기 위해 이진 탐색을 사용\n",
        "            left, right = 0, len(row) - 1\n",
        "            while left <= right:\n",
        "                mid = (left + right) // 2\n",
        "                if row[mid] < 0:\n",
        "                    right = mid - 1  # 음수라면, 더 왼쪽에 있을 가능성이 있음\n",
        "                else:\n",
        "                    left = mid + 1  # 양수라면, 더 오른쪽에 있을 가능성이 있음\n",
        "            count += len(row) - left  # left는 음수의 첫 번째 인덱스\n",
        "        return count"
      ],
      "metadata": {
        "id": "QVLBOv96sMt-"
      },
      "execution_count": null,
      "outputs": []
    },
    {
      "cell_type": "markdown",
      "source": [
        "1356. Sort Integers by The Number of 1 Bits"
      ],
      "metadata": {
        "id": "rI-_rZmmsN9-"
      }
    },
    {
      "cell_type": "code",
      "source": [
        "class Solution:\n",
        "    def sortByBits(self, arr: List[int]) -> List[int]:\n",
        "        # 각 숫자에 대해 (1 비트의 개수, 숫자) 순서로 정렬\n",
        "        return sorted(arr, key=lambda x: (bin(x).count('1'), x))"
      ],
      "metadata": {
        "id": "hfONdiDcsSiu"
      },
      "execution_count": null,
      "outputs": []
    },
    {
      "cell_type": "markdown",
      "source": [
        "1360. Number of Days Between Two Dates"
      ],
      "metadata": {
        "id": "g2t21V-msTzR"
      }
    },
    {
      "cell_type": "code",
      "source": [
        "from datetime import datetime\n",
        "\n",
        "class Solution:\n",
        "    def daysBetweenDates(self, date1: str, date2: str) -> int:\n",
        "        # 날짜 문자열을 datetime 객체로 변환\n",
        "        date1 = datetime.strptime(date1, \"%Y-%m-%d\").date()\n",
        "        date2 = datetime.strptime(date2, \"%Y-%m-%d\").date()\n",
        "\n",
        "        # 날짜 차이의 절댓값을 구하고 반환\n",
        "        return abs((date1 - date2).days)"
      ],
      "metadata": {
        "id": "VA-nB_Y6sYbY"
      },
      "execution_count": null,
      "outputs": []
    },
    {
      "cell_type": "markdown",
      "source": [
        "1370. Increasing Decreasing String"
      ],
      "metadata": {
        "id": "6VotOiB-sZkE"
      }
    },
    {
      "cell_type": "code",
      "source": [
        "from collections import Counter\n",
        "\n",
        "class Solution:\n",
        "    def sortString(self, s: str) -> str:\n",
        "        # 문자열에서 각 문자의 빈도수를 세기\n",
        "        freq = Counter(s)\n",
        "\n",
        "        # 결과를 담을 리스트\n",
        "        result = []\n",
        "\n",
        "        while len(result) < len(s):\n",
        "            # 오름차순으로 알파벳을 추가\n",
        "            for char in sorted(freq.keys()):\n",
        "                if freq[char] > 0:\n",
        "                    result.append(char)\n",
        "                    freq[char] -= 1\n",
        "\n",
        "            # 내림차순으로 알파벳을 추가\n",
        "            for char in sorted(freq.keys(), reverse=True):\n",
        "                if freq[char] > 0:\n",
        "                    result.append(char)\n",
        "                    freq[char] -= 1\n",
        "\n",
        "        # 결과 리스트를 문자열로 반환\n",
        "        return ''.join(result)"
      ],
      "metadata": {
        "id": "h2CirKj4sfu2"
      },
      "execution_count": null,
      "outputs": []
    },
    {
      "cell_type": "markdown",
      "source": [
        "1374. Generate a String With Characters That Have Odd Counts"
      ],
      "metadata": {
        "id": "mvlM3Kztsg5-"
      }
    },
    {
      "cell_type": "code",
      "source": [
        "class Solution:\n",
        "    def generateTheString(self, n: int) -> str:\n",
        "        # n이 홀수면 n번 'a'를 사용하고, 짝수면 n-1번 'a'를 사용하고 1번 'b'를 추가\n",
        "        if n % 2 == 1:\n",
        "            return 'a' * n\n",
        "        else:\n",
        "            return 'a' * (n - 1) + 'b'"
      ],
      "metadata": {
        "id": "sWBJ-iyesmW1"
      },
      "execution_count": null,
      "outputs": []
    },
    {
      "cell_type": "markdown",
      "source": [
        "1379. Find a Corresponding Node of a Binary Tree in a Clone of That Tree"
      ],
      "metadata": {
        "id": "6ZFemXDTsnZb"
      }
    },
    {
      "cell_type": "code",
      "source": [
        "class Solution:\n",
        "    def getTargetCopy(self, original: TreeNode, cloned: TreeNode, target: TreeNode) -> TreeNode:\n",
        "        # 기본적으로 DFS를 사용하여 원본 트리에서 target을 찾고,\n",
        "        # 그 노드에 해당하는 클론 트리의 노드를 반환합니다.\n",
        "\n",
        "        # 원본 트리와 클론 트리에서 동시에 탐색합니다.\n",
        "        if original is None:\n",
        "            return None\n",
        "\n",
        "        # 원본 트리에서 target을 찾은 경우, 클론 트리에서 동일한 위치의 노드를 반환\n",
        "        if original == target:\n",
        "            return cloned\n",
        "\n",
        "        # 왼쪽과 오른쪽 서브트리로 탐색\n",
        "        left_result = self.getTargetCopy(original.left, cloned.left, target)\n",
        "        if left_result:\n",
        "            return left_result\n",
        "\n",
        "        return self.getTargetCopy(original.right, cloned.right, target)"
      ],
      "metadata": {
        "id": "jeagcQVosvJt"
      },
      "execution_count": null,
      "outputs": []
    },
    {
      "cell_type": "markdown",
      "source": [
        "1380. Lucky Numbers in a Matrix"
      ],
      "metadata": {
        "id": "sbuqQ8dSswJX"
      }
    },
    {
      "cell_type": "code",
      "source": [
        "class Solution:\n",
        "    def luckyNumbers(self, matrix: List[List[int]]) -> List[int]:\n",
        "        # 각 행에서 최소값을 찾습니다.\n",
        "        row_min = [min(row) for row in matrix]\n",
        "\n",
        "        # 각 열에서 최대값을 찾습니다.\n",
        "        col_max = [max(col) for col in zip(*matrix)]\n",
        "\n",
        "        # 행에서 최소값이고 열에서 최대값인 숫자를 찾아 반환합니다.\n",
        "        result = []\n",
        "        for i in range(len(matrix)):\n",
        "            for j in range(len(matrix[0])):\n",
        "                if matrix[i][j] == row_min[i] and matrix[i][j] == col_max[j]:\n",
        "                    result.append(matrix[i][j])\n",
        "\n",
        "        return result"
      ],
      "metadata": {
        "id": "uetzoYsBsz5u"
      },
      "execution_count": null,
      "outputs": []
    },
    {
      "cell_type": "markdown",
      "source": [
        "1385. Find the Distance Value Between Two Arrays"
      ],
      "metadata": {
        "id": "Gwo6ntmfs07H"
      }
    },
    {
      "cell_type": "code",
      "source": [
        "class Solution:\n",
        "    def findTheDistanceValue(self, arr1: List[int], arr2: List[int], d: int) -> int:\n",
        "        count = 0\n",
        "\n",
        "        for num1 in arr1:\n",
        "            # 각 num1에 대해 arr2의 모든 값과 비교\n",
        "            valid = True\n",
        "            for num2 in arr2:\n",
        "                if abs(num1 - num2) <= d:\n",
        "                    valid = False\n",
        "                    break  # 한 쌍이라도 조건을 만족하면 더 이상 비교할 필요 없음\n",
        "            if valid:\n",
        "                count += 1\n",
        "\n",
        "        return count"
      ],
      "metadata": {
        "id": "0dpZuXsts55C"
      },
      "execution_count": null,
      "outputs": []
    },
    {
      "cell_type": "markdown",
      "source": [
        "1389. Create Target Array in the Given Order"
      ],
      "metadata": {
        "id": "R-BUpB_0s711"
      }
    },
    {
      "cell_type": "code",
      "source": [
        "class Solution:\n",
        "    def createTargetArray(self, nums: List[int], index: List[int]) -> List[int]:\n",
        "        target = []\n",
        "\n",
        "        for num, idx in zip(nums, index):\n",
        "            target.insert(idx, num)\n",
        "\n",
        "        return target"
      ],
      "metadata": {
        "id": "tP55F3XFtADa"
      },
      "execution_count": null,
      "outputs": []
    },
    {
      "cell_type": "markdown",
      "source": [
        "1394. Find Lucky Integer in an Array"
      ],
      "metadata": {
        "id": "FAruQaOOtBtj"
      }
    },
    {
      "cell_type": "code",
      "source": [
        "from collections import Counter\n",
        "\n",
        "class Solution:\n",
        "    def findLucky(self, arr: List[int]) -> int:\n",
        "        # 배열에서 각 숫자의 출현 횟수를 셈\n",
        "        count = Counter(arr)\n",
        "\n",
        "        # 행운의 수를 찾기 위해 가장 큰 행운의 수를 초기화\n",
        "        lucky_num = -1\n",
        "\n",
        "        # 출현 횟수와 값이 같은 수를 찾음\n",
        "        for num, freq in count.items():\n",
        "            if num == freq:\n",
        "                lucky_num = max(lucky_num, num)\n",
        "\n",
        "        return lucky_num"
      ],
      "metadata": {
        "id": "29HjZwrttFcZ"
      },
      "execution_count": null,
      "outputs": []
    },
    {
      "cell_type": "markdown",
      "source": [
        "1399. Count Largest Group"
      ],
      "metadata": {
        "id": "qDalCkH3tGmd"
      }
    },
    {
      "cell_type": "code",
      "source": [
        "from collections import Counter\n",
        "\n",
        "class Solution:\n",
        "    def countLargestGroup(self, n: int) -> int:\n",
        "        # 자릿수 합을 계산하는 함수\n",
        "        def digit_sum(num):\n",
        "            return sum(int(digit) for digit in str(num))\n",
        "\n",
        "        # 자릿수 합별로 개수 세기\n",
        "        group_count = Counter(digit_sum(i) for i in range(1, n+1))\n",
        "\n",
        "        # 가장 큰 자릿수 합의 그룹 크기\n",
        "        max_count = max(group_count.values())\n",
        "\n",
        "        # 가장 큰 크기를 가지는 그룹의 수를 구함\n",
        "        return list(group_count.values()).count(max_count)"
      ],
      "metadata": {
        "id": "Cm0nGQDjtKQY"
      },
      "execution_count": null,
      "outputs": []
    },
    {
      "cell_type": "markdown",
      "source": [
        "1403. Minimum Subsequence in Non-Increasing Order"
      ],
      "metadata": {
        "id": "3jltjoy0tLE3"
      }
    },
    {
      "cell_type": "code",
      "source": [
        "class Solution:\n",
        "    def minSubsequence(self, nums: List[int]) -> List[int]:\n",
        "        # 1. nums를 내림차순으로 정렬\n",
        "        nums.sort(reverse=True)\n",
        "\n",
        "        # 2. 전체 배열의 합을 구합니다.\n",
        "        total_sum = sum(nums)\n",
        "\n",
        "        # 3. 부분 배열의 합을 계산\n",
        "        current_sum = 0\n",
        "        result = []\n",
        "\n",
        "        # 4. 원소를 하나씩 추가하면서 조건을 만족할 때까지 반복\n",
        "        for num in nums:\n",
        "            current_sum += num\n",
        "            result.append(num)\n",
        "\n",
        "            # 5. 현재 부분 배열의 합이 나머지 배열의 합보다 크면 종료\n",
        "            if current_sum > total_sum - current_sum:\n",
        "                break\n",
        "\n",
        "        return result"
      ],
      "metadata": {
        "id": "6kr_6iu7tRTN"
      },
      "execution_count": null,
      "outputs": []
    },
    {
      "cell_type": "markdown",
      "source": [
        "1496. Path Crossing"
      ],
      "metadata": {
        "id": "rqJUj2NXJ36v"
      }
    },
    {
      "cell_type": "code",
      "source": [
        "class Solution:\n",
        "    def isPathCrossing(self, path: str) -> bool:\n",
        "        # 현재 위치는 (0, 0)부터 시작\n",
        "        x, y = 0, 0\n",
        "        visited = set()  # 방문한 좌표를 기록하는 집합\n",
        "        visited.add((x, y))  # 시작 좌표 (0, 0)를 방문 기록\n",
        "\n",
        "        # path 문자열을 따라 이동\n",
        "        for move in path:\n",
        "            # 이동 방향에 따라 좌표 업데이트\n",
        "            if move == 'N':\n",
        "                y += 1\n",
        "            elif move == 'S':\n",
        "                y -= 1\n",
        "            elif move == 'E':\n",
        "                x += 1\n",
        "            elif move == 'W':\n",
        "                x -= 1\n",
        "\n",
        "            # 새로운 좌표가 이미 방문한 곳이면 경로가 교차함\n",
        "            if (x, y) in visited:\n",
        "                return True\n",
        "            visited.add((x, y))  # 새로운 좌표를 방문 기록\n",
        "\n",
        "        return False"
      ],
      "metadata": {
        "id": "HelOFWTZJ6mx"
      },
      "execution_count": null,
      "outputs": []
    },
    {
      "cell_type": "markdown",
      "source": [
        "1502. Can Make Arithmetic Progression From Sequencce"
      ],
      "metadata": {
        "id": "-4YiWt7OJ9Bi"
      }
    },
    {
      "cell_type": "code",
      "source": [
        "class Solution:\n",
        "    def canMakeArithmeticProgression(self, arr: List[int]) -> bool:\n",
        "        # 배열을 오름차순으로 정렬\n",
        "        arr.sort()\n",
        "\n",
        "        # 첫 번째 차이를 구합니다.\n",
        "        diff = arr[1] - arr[0]\n",
        "\n",
        "        # 배열의 모든 인접한 원소들의 차이가 동일한지 확인\n",
        "        for i in range(2, len(arr)):\n",
        "            if arr[i] - arr[i - 1] != diff:\n",
        "                return False\n",
        "\n",
        "        return True"
      ],
      "metadata": {
        "id": "EtsI2pa4KEKU"
      },
      "execution_count": null,
      "outputs": []
    },
    {
      "cell_type": "markdown",
      "source": [
        "1507. Reformat Date"
      ],
      "metadata": {
        "id": "muuQfODDKGCc"
      }
    },
    {
      "cell_type": "code",
      "source": [
        "class Solution:\n",
        "    def reformatDate(self, date: str) -> str:\n",
        "        # 월의 영어 약자와 숫자를 매핑한 딕셔너리\n",
        "        month_map = {\n",
        "            \"Jan\": \"01\", \"Feb\": \"02\", \"Mar\": \"03\", \"Apr\": \"04\", \"May\": \"05\", \"Jun\": \"06\",\n",
        "            \"Jul\": \"07\", \"Aug\": \"08\", \"Sep\": \"09\", \"Oct\": \"10\", \"Nov\": \"11\", \"Dec\": \"12\"\n",
        "        }\n",
        "\n",
        "        # 날짜를 공백으로 분리\n",
        "        day, month, year = date.split()\n",
        "\n",
        "        # 날짜에서 접미사 제거 (예: '2nd' -> '2')\n",
        "        day = ''.join([char for char in day if char.isdigit()])\n",
        "\n",
        "        # 월을 숫자로 변환\n",
        "        month = month_map[month]\n",
        "\n",
        "        # 결과 반환: 'YYYY-MM-DD' 형식으로 반환\n",
        "        return f\"{year}-{month}-{day.zfill(2)}\""
      ],
      "metadata": {
        "id": "8XXXMHqbKKTQ"
      },
      "execution_count": null,
      "outputs": []
    },
    {
      "cell_type": "markdown",
      "source": [
        "1512. Number of Good Pairs"
      ],
      "metadata": {
        "id": "qVx6q3-3KMAE"
      }
    },
    {
      "cell_type": "code",
      "source": [
        "class Solution:\n",
        "    def numIdenticalPairs(self, nums: List[int]) -> int:\n",
        "        count = 0\n",
        "        freq = {}  # 숫자의 빈도를 저장할 딕셔너리\n",
        "\n",
        "        # 배열을 순회하면서 각 숫자의 빈도를 계산\n",
        "        for num in nums:\n",
        "            if num in freq:\n",
        "                # 같은 숫자가 있을 경우, 그 숫자와의 좋은 쌍을 계산하여 count에 더함\n",
        "                count += freq[num]\n",
        "            # 현재 숫자의 빈도를 1 증가\n",
        "            freq[num] = freq.get(num, 0) + 1\n",
        "\n",
        "        return count"
      ],
      "metadata": {
        "id": "Bb1oebj5KTBR"
      },
      "execution_count": null,
      "outputs": []
    },
    {
      "cell_type": "markdown",
      "source": [
        "1528. Shuffle String"
      ],
      "metadata": {
        "id": "3eY6pjP7KT8k"
      }
    },
    {
      "cell_type": "code",
      "source": [
        "class Solution:\n",
        "    def restoreString(self, s: str, indices: List[int]) -> str:\n",
        "        # 새로운 리스트로 초기화 (문자의 수와 같은 길이의 빈 문자열)\n",
        "        result = [''] * len(s)\n",
        "\n",
        "        # 문자열의 각 문자와 인덱스를 대응시키기\n",
        "        for i, char in enumerate(s):\n",
        "            result[indices[i]] = char\n",
        "\n",
        "        # 리스트를 문자열로 결합하여 반환\n",
        "        return ''.join(result)"
      ],
      "metadata": {
        "id": "Ovwj8mBOKYDd"
      },
      "execution_count": null,
      "outputs": []
    },
    {
      "cell_type": "markdown",
      "source": [
        "1534. Count Good Triplets"
      ],
      "metadata": {
        "id": "LMS604L7KagZ"
      }
    },
    {
      "cell_type": "code",
      "source": [
        "class Solution:\n",
        "    def countGoodTriplets(self, arr: List[int], a: int, b: int, c: int) -> int:\n",
        "        n = len(arr)\n",
        "        count = 0\n",
        "\n",
        "        # i, j, k에 대해 모든 가능한 삼중쌍을 탐색\n",
        "        for i in range(n - 2):\n",
        "            for j in range(i + 1, n - 1):\n",
        "                if abs(arr[i] - arr[j]) > a:  # 첫 번째 조건\n",
        "                    continue\n",
        "                for k in range(j + 1, n):\n",
        "                    if abs(arr[j] - arr[k]) <= b and abs(arr[i] - arr[k]) <= c:\n",
        "                        count += 1\n",
        "\n",
        "        return count"
      ],
      "metadata": {
        "id": "rH4mghbTKfoQ"
      },
      "execution_count": null,
      "outputs": []
    },
    {
      "cell_type": "markdown",
      "source": [
        "1539. Kth Missing Positive Number"
      ],
      "metadata": {
        "id": "mY5mEePZKg_M"
      }
    },
    {
      "cell_type": "code",
      "source": [
        "class Solution:\n",
        "    def findKthPositive(self, arr: List[int], k: int) -> int:\n",
        "        missing_count = 0  # 누락된 숫자의 개수\n",
        "        current = 1  # 현재 확인 중인 숫자\n",
        "        index = 0  # arr 배열을 탐색할 인덱스\n",
        "\n",
        "        # 누락된 숫자가 k개가 될 때까지 반복\n",
        "        while missing_count < k:\n",
        "            # arr의 현재 숫자가 current와 일치하면 current는 누락된 숫자가 아니므로 넘어감\n",
        "            if index < len(arr) and arr[index] == current:\n",
        "                index += 1  # 배열에서 다음 숫자로 넘어감\n",
        "            else:\n",
        "                missing_count += 1  # current는 누락된 숫자이므로 누락된 수 카운트 증가\n",
        "                if missing_count == k:\n",
        "                    return current  # k번째 누락된 수를 찾았으므로 반환\n",
        "            current += 1  # 다음 숫자 확인\n",
        "\n",
        "        return -1  # k번째 누락된 숫자를 찾지 못한 경우 (하지만 문제에서 k는 항상 존재한다고 보장)"
      ],
      "metadata": {
        "id": "fYUA3xxjKmVY"
      },
      "execution_count": null,
      "outputs": []
    },
    {
      "cell_type": "markdown",
      "source": [
        "1544. Make The String Great"
      ],
      "metadata": {
        "id": "u8o13RTjKpk2"
      }
    },
    {
      "cell_type": "code",
      "source": [
        "class Solution:\n",
        "    def makeGood(self, s: str) -> str:\n",
        "        stack = []  # 스택 초기화\n",
        "\n",
        "        for char in s:\n",
        "            # 스택이 비어 있지 않고, 스택의 맨 위 문자와 현재 문자가 대소문자만 다른 경우\n",
        "            if stack and abs(ord(stack[-1]) - ord(char)) == 32:\n",
        "                stack.pop()  # 대소문자가 다른 동일한 문자이므로 두 문자를 제거\n",
        "            else:\n",
        "                stack.append(char)  # 그렇지 않으면 스택에 추가\n",
        "\n",
        "        # 스택에 남아 있는 문자들을 하나로 결합하여 반환\n",
        "        return ''.join(stack)"
      ],
      "metadata": {
        "id": "2mZhnY1QKsSU"
      },
      "execution_count": null,
      "outputs": []
    },
    {
      "cell_type": "markdown",
      "source": [
        "1550. Three Consecutive Odds"
      ],
      "metadata": {
        "id": "Gwh3hFXjKtg8"
      }
    },
    {
      "cell_type": "code",
      "source": [
        "class Solution:\n",
        "    def threeConsecutiveOdds(self, arr: List[int]) -> bool:\n",
        "        # 연속된 홀수의 개수를 셀 변수\n",
        "        count = 0\n",
        "\n",
        "        # 배열을 순차적으로 탐색\n",
        "        for num in arr:\n",
        "            if num % 2 != 0:  # num이 홀수인 경우\n",
        "                count += 1\n",
        "                # 홀수가 3개 연속으로 나왔으면 바로 True 반환\n",
        "                if count == 3:\n",
        "                    return True\n",
        "            else:\n",
        "                # 홀수가 아니면 카운트 리셋\n",
        "                count = 0\n",
        "\n",
        "        # 연속된 3개의 홀수가 없으면 False 반환\n",
        "        return False"
      ],
      "metadata": {
        "id": "1K6GXxhmKx_-"
      },
      "execution_count": null,
      "outputs": []
    },
    {
      "cell_type": "markdown",
      "source": [
        "1556. Thousand Separator"
      ],
      "metadata": {
        "id": "FVJ4OpPrKzk1"
      }
    },
    {
      "cell_type": "code",
      "source": [
        "class Solution:\n",
        "    def thousandSeparator(self, n: int) -> str:\n",
        "        # 숫자 n을 문자열로 변환\n",
        "        n_str = str(n)\n",
        "\n",
        "        # n_str의 길이가 4 이상이면 천 단위로 구분해야 함\n",
        "        if len(n_str) <= 3:\n",
        "            return n_str  # 길이가 3 이하라면 그대로 반환\n",
        "\n",
        "        # 리스트로 변환하여 천 단위로 구분된 부분을 처리\n",
        "        result = []\n",
        "\n",
        "        # 뒤에서부터 3자리씩 끊어 추가\n",
        "        while len(n_str) > 3:\n",
        "            result.append(n_str[-3:])  # 마지막 3자리 추가\n",
        "            n_str = n_str[:-3]  # 뒤에서 3자리 잘라내기\n",
        "\n",
        "        # 남은 3자리 이하의 부분은 그대로 앞에 추가\n",
        "        if n_str:\n",
        "            result.append(n_str)\n",
        "\n",
        "        # 결과 리스트를 뒤집어서 합친 뒤 쉼표로 구분된 형식으로 반환\n",
        "        return '.'.join(reversed(result))"
      ],
      "metadata": {
        "id": "TrFMf4MyK8IC"
      },
      "execution_count": null,
      "outputs": []
    },
    {
      "cell_type": "markdown",
      "source": [
        "1560. Most Visited Sector in a Circular Track"
      ],
      "metadata": {
        "id": "QpMzYwoHK8_q"
      }
    },
    {
      "cell_type": "code",
      "source": [
        "class Solution:\n",
        "    def mostVisited(self, n: int, rounds: List[int]) -> List[int]:\n",
        "        # rounds 배열의 첫 번째와 마지막 값\n",
        "        start, end = rounds[0], rounds[-1]\n",
        "\n",
        "        # 만약 start가 end보다 크다면 한 바퀴를 넘은 것\n",
        "        if start <= end:\n",
        "            return [i for i in range(start, end + 1)]  # start와 end 사이의 구간\n",
        "        else:\n",
        "            # start가 end보다 크면 두 구간을 합쳐야 함\n",
        "            return [i for i in range(1, end + 1)] + [i for i in range(start, n + 1)]  # 두 구간 합치기"
      ],
      "metadata": {
        "id": "rlbf6hQOLEGg"
      },
      "execution_count": null,
      "outputs": []
    },
    {
      "cell_type": "markdown",
      "source": [
        "1566. Detect Pattern of Length M Repeated K or More Times"
      ],
      "metadata": {
        "id": "fxwm25TSLJFh"
      }
    },
    {
      "cell_type": "code",
      "source": [
        "class Solution:\n",
        "    def containsPattern(self, arr: List[int], m: int, k: int) -> bool:\n",
        "        # 배열의 길이가 패턴을 k번 이상 반복할 만큼 충분히 긴지 확인\n",
        "        n = len(arr)\n",
        "\n",
        "        # 배열의 마지막 m * k 길이까지 확인 (배열 길이를 초과하면 안 되므로)\n",
        "        for i in range(n - m * k + 1):\n",
        "            # 현재 i부터 시작하여 패턴이 k번 반복되는지 확인\n",
        "            pattern = arr[i:i + m]  # 길이 m인 패턴\n",
        "            count = 1  # 첫 번째 패턴이 존재하므로 1부터 시작\n",
        "            # 그 다음 패턴이 존재하는지 확인\n",
        "            while i + count * m + m <= n and arr[i + count * m:i + (count + 1) * m] == pattern:\n",
        "                count += 1  # 패턴이 더 반복되었으므로 count 증가\n",
        "            if count >= k:\n",
        "                return True  # 패턴이 k번 이상 반복되면 True 반환\n",
        "        return False  # 모든 경우에서 패턴이 k번 이상 반복되지 않으면 False"
      ],
      "metadata": {
        "id": "wKxtM0pmLQS1"
      },
      "execution_count": null,
      "outputs": []
    },
    {
      "cell_type": "markdown",
      "source": [
        "1576. Replace All ?'s to Avoid Consecutive Repeating Characters"
      ],
      "metadata": {
        "id": "bpmKJ7AoLRKH"
      }
    },
    {
      "cell_type": "code",
      "source": [
        "class Solution:\n",
        "    def modifyString(self, s: str) -> str:\n",
        "        # 문자열을 리스트로 바꾸어 처리\n",
        "        s = list(s)\n",
        "\n",
        "        for i in range(len(s)):\n",
        "            if s[i] == '?':\n",
        "                # 앞, 뒤 문자를 고려하여 물음표를 대체\n",
        "                for ch in 'abc':  # 'a', 'b', 'c' 중 하나를 선택\n",
        "                    # 앞, 뒤 문자와 다른 문자를 찾음\n",
        "                    if (i == 0 or s[i - 1] != ch) and (i == len(s) - 1 or s[i + 1] != ch):\n",
        "                        s[i] = ch\n",
        "                        break\n",
        "\n",
        "        return ''.join(s)  # 리스트를 문자열로 변환하여 반환"
      ],
      "metadata": {
        "id": "nYWzuM1YLYqj"
      },
      "execution_count": null,
      "outputs": []
    },
    {
      "cell_type": "markdown",
      "source": [
        "1588. Sum of All Odd Length Subarrays"
      ],
      "metadata": {
        "id": "Cry4h7HILbMH"
      }
    },
    {
      "cell_type": "code",
      "source": [
        "class Solution:\n",
        "    def sumOddLengthSubarrays(self, arr: List[int]) -> int:\n",
        "        total_sum = 0\n",
        "        n = len(arr)\n",
        "\n",
        "        # 부분 배열의 길이를 1, 3, 5, ..., n까지 확인\n",
        "        for length in range(1, n + 1, 2):  # 홀수 길이만큼\n",
        "            # 각 홀수 길이에 대해 시작 인덱스를 찾아 그 부분 배열의 합을 구하기\n",
        "            for start in range(n - length + 1):\n",
        "                # 부분 배열의 끝 인덱스는 start + length - 1\n",
        "                total_sum += sum(arr[start:start + length])\n",
        "\n",
        "        return total_sum"
      ],
      "metadata": {
        "id": "ZsedQNd-Lg9n"
      },
      "execution_count": null,
      "outputs": []
    },
    {
      "cell_type": "markdown",
      "source": [
        "1592. Rearrange Spaces Between Words"
      ],
      "metadata": {
        "id": "PON1TesxLex1"
      }
    },
    {
      "cell_type": "code",
      "source": [
        "class Solution:\n",
        "    def reorderSpaces(self, text: str) -> str:\n",
        "        words = text.split()  # 공백을 기준으로 단어 분리\n",
        "        num_spaces = text.count(' ')  # 텍스트 내 공백의 총 개수\n",
        "        num_words = len(words)  # 단어의 개수\n",
        "\n",
        "        if num_words == 1:\n",
        "            # 단어가 하나라면, 공백은 전부 뒤에 추가\n",
        "            return words[0] + ' ' * num_spaces\n",
        "\n",
        "        # 단어 사이의 공백 균등 배분\n",
        "        spaces_between_words = num_spaces // (num_words - 1)\n",
        "        remaining_spaces = num_spaces % (num_words - 1)\n",
        "\n",
        "        # 공백이 균등하게 배분된 단어들 사이에 공백 추가\n",
        "        result = (' ' * spaces_between_words).join(words)\n",
        "\n",
        "        # 남는 공백은 문자열의 끝에 추가\n",
        "        return result + ' ' * remaining_spaces"
      ],
      "metadata": {
        "id": "ldETvrLULpWP"
      },
      "execution_count": null,
      "outputs": []
    },
    {
      "cell_type": "markdown",
      "source": [
        "1598. Crawler Log Folder"
      ],
      "metadata": {
        "id": "jWqgll2eLqlT"
      }
    },
    {
      "cell_type": "code",
      "source": [
        "class Solution:\n",
        "    def minOperations(self, logs: List[str]) -> int:\n",
        "        step = 0  # 현재 폴더의 깊이를 추적\n",
        "\n",
        "        for log in logs:\n",
        "            if log == \"../\":\n",
        "                if step > 0:\n",
        "                    step -= 1  # 상위 폴더로 한 단계 올라가기\n",
        "            elif log != \"./\":\n",
        "                step += 1  # 하위 폴더로 이동하기\n",
        "\n",
        "        return step"
      ],
      "metadata": {
        "id": "rT7OOP6xLusw"
      },
      "execution_count": null,
      "outputs": []
    },
    {
      "cell_type": "markdown",
      "source": [
        "1603. Design Parking System"
      ],
      "metadata": {
        "id": "poXALeSrLv_x"
      }
    },
    {
      "cell_type": "code",
      "source": [
        "class ParkingSystem:\n",
        "\n",
        "    def __init__(self, big: int, medium: int, small: int):\n",
        "        # 각 차 유형에 대해 주차 공간 수를 초기화\n",
        "        self.big = big\n",
        "        self.medium = medium\n",
        "        self.small = small\n",
        "\n",
        "    def addCar(self, carType: int) -> bool:\n",
        "        # carType이 1이면 대형 차, 2이면 중형 차, 3이면 소형 차\n",
        "        if carType == 1:  # 대형 차\n",
        "            if self.big > 0:\n",
        "                self.big -= 1  # 대형 차 주차\n",
        "                return True\n",
        "            else:\n",
        "                return False\n",
        "        elif carType == 2:  # 중형 차\n",
        "            if self.medium > 0:\n",
        "                self.medium -= 1  # 중형 차 주차\n",
        "                return True\n",
        "            else:\n",
        "                return False\n",
        "        elif carType == 3:  # 소형 차\n",
        "            if self.small > 0:\n",
        "                self.small -= 1  # 소형 차 주차\n",
        "                return True\n",
        "            else:\n",
        "                return False"
      ],
      "metadata": {
        "id": "4W1C9qT4M59t"
      },
      "execution_count": null,
      "outputs": []
    },
    {
      "cell_type": "markdown",
      "source": [
        "1608. Special Array With X Elements Freater Than or Equal X"
      ],
      "metadata": {
        "id": "aDs9iguKM8o_"
      }
    },
    {
      "cell_type": "code",
      "source": [
        "class Solution:\n",
        "    def specialArray(self, nums: List[int]) -> int:\n",
        "        # 가능한 X는 0부터 len(nums)까지\n",
        "        n = len(nums)\n",
        "\n",
        "        # X가 가능한지 검사\n",
        "        for X in range(n + 1):\n",
        "            # nums에서 X보다 크거나 같은 숫자가 X개 이상인지 확인\n",
        "            count = sum(1 for num in nums if num >= X)\n",
        "\n",
        "            # X개 이상의 숫자가 X 이상이면 X가 정답\n",
        "            if count == X:\n",
        "                return X\n",
        "\n",
        "        # 조건을 만족하는 X가 없다면 -1을 반환\n",
        "        return -1"
      ],
      "metadata": {
        "id": "7aygQXYBNFY2"
      },
      "execution_count": null,
      "outputs": []
    },
    {
      "cell_type": "markdown",
      "source": [
        "1614. Maximum Nesting Depth of the Parentheses"
      ],
      "metadata": {
        "id": "JPX5_IBdNJHw"
      }
    },
    {
      "cell_type": "code",
      "source": [
        "class Solution:\n",
        "    def maxDepth(self, s: str) -> int:\n",
        "        depth = 0  # 현재 중첩 깊이\n",
        "        max_depth = 0  # 최대 중첩 깊이\n",
        "\n",
        "        for char in s:\n",
        "            if char == '(':  # 열린 괄호를 만나면 깊이를 1 증가\n",
        "                depth += 1\n",
        "                max_depth = max(max_depth, depth)  # 최대 깊이를 갱신\n",
        "            elif char == ')':  # 닫힌 괄호를 만나면 깊이를 1 감소\n",
        "                depth -= 1\n",
        "\n",
        "        return max_depth"
      ],
      "metadata": {
        "id": "ny5djbolNQ5K"
      },
      "execution_count": null,
      "outputs": []
    },
    {
      "cell_type": "markdown",
      "source": [
        "1619. Mean of Array After Removing Some Elements"
      ],
      "metadata": {
        "id": "axsRT7fHNT8r"
      }
    },
    {
      "cell_type": "code",
      "source": [
        "class Solution:\n",
        "    def trimMean(self, arr: List[int]) -> float:\n",
        "        arr.sort()  # 배열을 오름차순으로 정렬\n",
        "        n = len(arr)\n",
        "\n",
        "        # 잘라낼 원소 개수는 배열의 5%로 계산\n",
        "        trim_count = n // 20\n",
        "\n",
        "        # 잘라낸 후 남은 배열\n",
        "        trimmed_arr = arr[trim_count:n-trim_count]\n",
        "\n",
        "        # 남은 배열의 평균을 구함\n",
        "        return sum(trimmed_arr) / len(trimmed_arr)"
      ],
      "metadata": {
        "id": "4S5ct6RaNYkG"
      },
      "execution_count": null,
      "outputs": []
    },
    {
      "cell_type": "markdown",
      "source": [
        "1624. Largest Substring Between Two Equal Characters"
      ],
      "metadata": {
        "id": "hlkltmtuNZ7p"
      }
    },
    {
      "cell_type": "code",
      "source": [
        "class Solution:\n",
        "    def maxLengthBetweenEqualCharacters(self, s: str) -> int:\n",
        "        # 문자와 그 문자의 첫 번째 등장 인덱스를 저장하는 딕셔너리\n",
        "        first_occurrence = {}\n",
        "        max_length = -1  # 간격을 찾지 못할 경우 -1을 반환\n",
        "\n",
        "        for i, char in enumerate(s):\n",
        "            if char in first_occurrence:\n",
        "                # 이미 등장한 문자인 경우, 현재 인덱스와 첫 번째 등장 인덱스의 차이 계산\n",
        "                max_length = max(max_length, i - first_occurrence[char] - 1)\n",
        "            else:\n",
        "                # 문자가 처음 등장하는 경우 그 인덱스를 기록\n",
        "                first_occurrence[char] = i\n",
        "\n",
        "        return max_length"
      ],
      "metadata": {
        "id": "cOD88LPSNgBs"
      },
      "execution_count": null,
      "outputs": []
    }
  ]
}